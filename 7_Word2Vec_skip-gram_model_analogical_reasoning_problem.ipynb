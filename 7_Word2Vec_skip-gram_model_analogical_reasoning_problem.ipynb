{
  "nbformat": 4,
  "nbformat_minor": 0,
  "metadata": {
    "colab": {
      "name": "Shubhasmita_Roy_nlp_8.ipynb",
      "provenance": [],
      "collapsed_sections": [
        "98lvzrmLFUuv"
      ]
    },
    "kernelspec": {
      "name": "python3",
      "display_name": "Python 3"
    },
    "accelerator": "GPU"
  },
  "cells": [
    {
      "cell_type": "markdown",
      "metadata": {
        "id": "PNesQkjEfSIH"
      },
      "source": [
        "# Exp 8 :"
      ]
    },
    {
      "cell_type": "markdown",
      "metadata": {
        "id": "oMqdH_vXdaBg"
      },
      "source": [
        "We’re using a Unlabeled data set from “Bag of Words Meets Bags of Popcorn” available on Kaggle : https://www.kaggle.com/c/word2vec-nlp-tutorial/data"
      ]
    },
    {
      "cell_type": "code",
      "metadata": {
        "id": "MCrSYc33duuZ"
      },
      "source": [
        "#Import packages\n",
        "import pandas as pd\n",
        "import gensim\n",
        "#import beautiful soup , regex\n",
        "from bs4 import BeautifulSoup\n",
        "import re, string"
      ],
      "execution_count": null,
      "outputs": []
    },
    {
      "cell_type": "code",
      "metadata": {
        "id": "NFTdAcqPkiEi",
        "colab": {
          "base_uri": "https://localhost:8080/"
        },
        "outputId": "5b96b04a-c02d-490d-f849-bd6f77a20233"
      },
      "source": [
        "!pip install gensim"
      ],
      "execution_count": null,
      "outputs": [
        {
          "output_type": "stream",
          "name": "stdout",
          "text": [
            "Requirement already satisfied: gensim in /usr/local/lib/python3.7/dist-packages (3.6.0)\n",
            "Requirement already satisfied: scipy>=0.18.1 in /usr/local/lib/python3.7/dist-packages (from gensim) (1.4.1)\n",
            "Requirement already satisfied: six>=1.5.0 in /usr/local/lib/python3.7/dist-packages (from gensim) (1.15.0)\n",
            "Requirement already satisfied: smart-open>=1.2.1 in /usr/local/lib/python3.7/dist-packages (from gensim) (5.2.1)\n",
            "Requirement already satisfied: numpy>=1.11.3 in /usr/local/lib/python3.7/dist-packages (from gensim) (1.19.5)\n"
          ]
        }
      ]
    },
    {
      "cell_type": "code",
      "metadata": {
        "id": "uQGaH6Mgz1zT",
        "colab": {
          "base_uri": "https://localhost:8080/"
        },
        "outputId": "b0153137-9fee-4b4b-d07c-bea05ba4c944"
      },
      "source": [
        "from gensim.models import Word2Vec\n",
        "# define training data\n",
        "sentences = [['this', 'is', 'the', 'first', 'sentence', 'for', 'word2vec'],\n",
        "\t\t\t['this', 'is', 'the', 'second', 'sentence'],\n",
        "\t\t\t['yet', 'another', 'sentence'],\n",
        "\t\t\t['one', 'more', 'sentence'],\n",
        "\t\t\t['and', 'the', 'final', 'sentence']]\n",
        "# train model\n",
        "model = Word2Vec(sentences, min_count=2,size=5)\n",
        "# summarize the loaded model\n",
        "print(model)\n"
      ],
      "execution_count": null,
      "outputs": [
        {
          "output_type": "stream",
          "name": "stdout",
          "text": [
            "Word2Vec(vocab=4, size=5, alpha=0.025)\n"
          ]
        }
      ]
    },
    {
      "cell_type": "code",
      "metadata": {
        "id": "XEFYVFBRrwqq",
        "colab": {
          "base_uri": "https://localhost:8080/"
        },
        "outputId": "94b97441-167c-4ee7-edd6-5a78df61a334"
      },
      "source": [
        "# summarize vocabulary\n",
        "words = list(model.wv.vocab)\n",
        "print(words)\n",
        "# access vector for one word\n",
        "print(model['this'])\n"
      ],
      "execution_count": null,
      "outputs": [
        {
          "output_type": "stream",
          "name": "stdout",
          "text": [
            "['this', 'is', 'the', 'sentence']\n",
            "[-0.05836258  0.03466232 -0.0747008  -0.05012784  0.08845659]\n"
          ]
        },
        {
          "output_type": "stream",
          "name": "stderr",
          "text": [
            "/usr/local/lib/python3.7/dist-packages/ipykernel_launcher.py:5: DeprecationWarning: Call to deprecated `__getitem__` (Method will be removed in 4.0.0, use self.wv.__getitem__() instead).\n",
            "  \"\"\"\n"
          ]
        }
      ]
    },
    {
      "cell_type": "code",
      "metadata": {
        "id": "HeLJdA9BsbFo",
        "colab": {
          "base_uri": "https://localhost:8080/"
        },
        "outputId": "ca3759bd-4932-4e54-afb7-cfccc893d168"
      },
      "source": [
        "# save model\n",
        "model.save('model.bin')\n",
        "# load model\n",
        "new_model = Word2Vec.load('model.bin')\n",
        "print(new_model)"
      ],
      "execution_count": null,
      "outputs": [
        {
          "output_type": "stream",
          "name": "stdout",
          "text": [
            "Word2Vec(vocab=4, size=5, alpha=0.025)\n"
          ]
        }
      ]
    },
    {
      "cell_type": "code",
      "metadata": {
        "id": "bzT5yRlK0c98",
        "colab": {
          "base_uri": "https://localhost:8080/"
        },
        "outputId": "bec1fdc9-3341-4248-8d5f-279399b624c1"
      },
      "source": [
        "model.wv.similarity(\"this\",\"is\")"
      ],
      "execution_count": null,
      "outputs": [
        {
          "output_type": "execute_result",
          "data": {
            "text/plain": [
              "0.10749495"
            ]
          },
          "metadata": {},
          "execution_count": 6
        }
      ]
    },
    {
      "cell_type": "code",
      "metadata": {
        "id": "WaRezRpN0wtN",
        "colab": {
          "base_uri": "https://localhost:8080/"
        },
        "outputId": "115e5eaa-38f4-41ea-b16c-390801904db0"
      },
      "source": [
        "model.wv.most_similar(\"this\")"
      ],
      "execution_count": null,
      "outputs": [
        {
          "output_type": "execute_result",
          "data": {
            "text/plain": [
              "[('is', 0.10749495774507523),\n",
              " ('sentence', 0.0753842145204544),\n",
              " ('the', -0.22605973482131958)]"
            ]
          },
          "metadata": {},
          "execution_count": 7
        }
      ]
    },
    {
      "cell_type": "code",
      "metadata": {
        "id": "p1aj78m11DV0",
        "colab": {
          "base_uri": "https://localhost:8080/"
        },
        "outputId": "a5b25617-5afd-4915-9cfb-cc464a73c3ff"
      },
      "source": [
        "X = model[model.wv.vocab]"
      ],
      "execution_count": null,
      "outputs": [
        {
          "output_type": "stream",
          "name": "stderr",
          "text": [
            "/usr/local/lib/python3.7/dist-packages/ipykernel_launcher.py:1: DeprecationWarning: Call to deprecated `__getitem__` (Method will be removed in 4.0.0, use self.wv.__getitem__() instead).\n",
            "  \"\"\"Entry point for launching an IPython kernel.\n"
          ]
        }
      ]
    },
    {
      "cell_type": "code",
      "metadata": {
        "id": "eF-ZxVW81N_G",
        "colab": {
          "base_uri": "https://localhost:8080/",
          "height": 319
        },
        "outputId": "1616eb7f-f8a5-40d8-acd2-67c39b79218c"
      },
      "source": [
        "from gensim.models import Word2Vec\n",
        "from sklearn.decomposition import PCA\n",
        "from matplotlib import pyplot\n",
        "# define training data\n",
        "sentences = [['this', 'is', 'the', 'first', 'sentence', 'for', 'word2vec'],\n",
        "\t\t\t['this', 'is', 'the', 'second', 'sentence'],\n",
        "\t\t\t['yet', 'another', 'sentence'],\n",
        "\t\t\t['one', 'more', 'sentence'],\n",
        "\t\t\t['and', 'the', 'final', 'sentence']]\n",
        "# train model\n",
        "model = Word2Vec(sentences, min_count=1)\n",
        "# fit a 2d PCA model to the vectors\n",
        "X = model[model.wv.vocab]\n",
        "pca = PCA(n_components=3)\n",
        "result = pca.fit_transform(X)\n",
        "# create a scatter plot of the projection\n",
        "pyplot.scatter(result[:, 0], result[:, 1])\n",
        "words = list(model.wv.vocab)\n",
        "for i, word in enumerate(words):\n",
        "\tpyplot.annotate(word, xy=(result[i, 0], result[i, 1]))\n",
        "pyplot.show()"
      ],
      "execution_count": null,
      "outputs": [
        {
          "output_type": "stream",
          "name": "stderr",
          "text": [
            "/usr/local/lib/python3.7/dist-packages/ipykernel_launcher.py:13: DeprecationWarning: Call to deprecated `__getitem__` (Method will be removed in 4.0.0, use self.wv.__getitem__() instead).\n",
            "  del sys.path[0]\n"
          ]
        },
        {
          "output_type": "display_data",
          "data": {
            "image/png": "[encoded data removed]",
            "text/plain": [
              "<Figure size 432x288 with 1 Axes>"
            ]
          },
          "metadata": {
            "needs_background": "light"
          }
        }
      ]
    },
    {
      "cell_type": "code",
      "metadata": {
        "id": "9c-lhAe5fnF9"
      },
      "source": [
        ""
      ],
      "execution_count": null,
      "outputs": []
    },
    {
      "cell_type": "markdown",
      "metadata": {
        "id": "JBdc3uO89-Nz"
      },
      "source": [
        "##Part A:-\n",
        "Implement Word2Vec skip-gram model and solve analogical reasoning problem which essentially requires asking the question: \"Germany is to Berlin as France is to ___?\".\n",
        "\n"
      ]
    },
    {
      "cell_type": "code",
      "metadata": {
        "colab": {
          "base_uri": "https://localhost:8080/"
        },
        "id": "F7JHafo5lYZc",
        "outputId": "8d94a79e-d99d-4394-83c0-d42cfb59491a"
      },
      "source": [
        "import gensim.downloader as api\n",
        "wv = api.load('word2vec-google-news-300')"
      ],
      "execution_count": null,
      "outputs": [
        {
          "output_type": "stream",
          "name": "stdout",
          "text": [
            "[==================================================] 100.0% 1662.8/1662.8MB downloaded\n"
          ]
        }
      ]
    },
    {
      "cell_type": "code",
      "metadata": {
        "id": "AZym34pwldPx"
      },
      "source": [
        "vec_king = wv['king']"
      ],
      "execution_count": null,
      "outputs": []
    },
    {
      "cell_type": "code",
      "metadata": {
        "colab": {
          "base_uri": "https://localhost:8080/"
        },
        "id": "2d3V0f47lj3V",
        "outputId": "79d13c0a-223c-445a-e009-af3856fd4c35"
      },
      "source": [
        "try:\n",
        "    vec_cameroon = wv['cameroon']\n",
        "except KeyError:\n",
        "    print(\"The word 'cameroon' does not appear in this model\")"
      ],
      "execution_count": null,
      "outputs": [
        {
          "output_type": "stream",
          "name": "stdout",
          "text": [
            "The word 'cameroon' does not appear in this model\n"
          ]
        }
      ]
    },
    {
      "cell_type": "code",
      "metadata": {
        "colab": {
          "base_uri": "https://localhost:8080/"
        },
        "id": "sF7XStLjlmXc",
        "outputId": "21d112e7-9280-4b2a-bfa6-dcc86400e064"
      },
      "source": [
        "pairs = [\n",
        "    ('car', 'minivan'),   # a minivan is a kind of car\n",
        "    ('car', 'bicycle'),   # still a wheeled vehicle\n",
        "    ('car', 'airplane'),  # ok, no wheels, but still a vehicle\n",
        "    ('car', 'cereal'),    # ... and so on\n",
        "    ('car', 'communism'),\n",
        "]\n",
        "for w1, w2 in pairs:\n",
        "    print('%r\\t%r\\t%.2f' % (w1, w2, wv.similarity(w1, w2)))"
      ],
      "execution_count": null,
      "outputs": [
        {
          "output_type": "stream",
          "name": "stdout",
          "text": [
            "'car'\t'minivan'\t0.69\n",
            "'car'\t'bicycle'\t0.54\n",
            "'car'\t'airplane'\t0.42\n",
            "'car'\t'cereal'\t0.14\n",
            "'car'\t'communism'\t0.06\n"
          ]
        }
      ]
    },
    {
      "cell_type": "code",
      "metadata": {
        "colab": {
          "base_uri": "https://localhost:8080/"
        },
        "id": "wTqYH5FjlmT5",
        "outputId": "f87b1d6e-ecf0-4c7e-91a8-0694ba859684"
      },
      "source": [
        "print(wv.most_similar(positive=['car', 'minivan'], topn=5))\n"
      ],
      "execution_count": null,
      "outputs": [
        {
          "output_type": "stream",
          "name": "stdout",
          "text": [
            "[('SUV', 0.853219211101532), ('vehicle', 0.8175784349441528), ('pickup_truck', 0.7763689160346985), ('Jeep', 0.7567334175109863), ('Ford_Explorer', 0.756571888923645)]\n"
          ]
        }
      ]
    },
    {
      "cell_type": "code",
      "metadata": {
        "colab": {
          "base_uri": "https://localhost:8080/"
        },
        "id": "hPCz1l3nlmSA",
        "outputId": "3be8a377-515b-4672-f4ef-07ea3301f8bd"
      },
      "source": [
        "print(wv.doesnt_match(['fire', 'water', 'land', 'sea', 'air', 'car']))"
      ],
      "execution_count": null,
      "outputs": [
        {
          "output_type": "stream",
          "name": "stdout",
          "text": [
            "car\n"
          ]
        },
        {
          "output_type": "stream",
          "name": "stderr",
          "text": [
            "/usr/local/lib/python3.7/dist-packages/gensim/models/keyedvectors.py:895: FutureWarning: arrays to stack must be passed as a \"sequence\" type such as list or tuple. Support for non-sequence iterables such as generators is deprecated as of NumPy 1.16 and will raise an error in the future.\n",
            "  vectors = vstack(self.word_vec(word, use_norm=True) for word in used_words).astype(REAL)\n"
          ]
        }
      ]
    },
    {
      "cell_type": "code",
      "metadata": {
        "id": "HcqN5-felmLA"
      },
      "source": [
        "from gensim.test.utils import datapath\n",
        "from gensim import utils\n",
        "\n",
        "class MyCorpus:\n",
        "    \"\"\"An iterator that yields sentences (lists of str).\"\"\"\n",
        "\n",
        "    def __iter__(self):\n",
        "        corpus_path = datapath('lee_background.cor')\n",
        "        for line in open(corpus_path):\n",
        "            # assume there's one document per line, tokens separated by whitespace\n",
        "            yield utils.simple_preprocess(line)"
      ],
      "execution_count": null,
      "outputs": []
    },
    {
      "cell_type": "code",
      "metadata": {
        "id": "LLABGLiUl2G8"
      },
      "source": [
        "import gensim.models\n",
        "\n",
        "sentences = MyCorpus()\n",
        "model = gensim.models.Word2Vec(sentences=sentences)"
      ],
      "execution_count": null,
      "outputs": []
    },
    {
      "cell_type": "code",
      "metadata": {
        "id": "Q25X8QgLl2CA"
      },
      "source": [
        "import tempfile\n",
        "\n",
        "with tempfile.NamedTemporaryFile(prefix='gensim-model-', delete=False) as tmp:\n",
        "    temporary_filepath = tmp.name\n",
        "    model.save(temporary_filepath)\n",
        "    #\n",
        "    # The model is now safely stored in the filepath.\n",
        "    # You can copy it to other machines, share it with others, etc.\n",
        "    #\n",
        "    # To load a saved model:\n",
        "    #\n",
        "    new_model = gensim.models.Word2Vec.load(temporary_filepath)"
      ],
      "execution_count": null,
      "outputs": []
    },
    {
      "cell_type": "code",
      "metadata": {
        "id": "ERP3lRpEl2AE"
      },
      "source": [
        "# model = gensim.models.KeyedVectors.load_word2vec_format('/tmp/vectors.txt', binary=False)\n",
        "# # using gzipped/bz2 input works too, no need to unzip\n",
        "# model = gensim.models.KeyedVectors.load_word2vec_format('/tmp/vectors.bin.gz', binary=True)"
      ],
      "execution_count": null,
      "outputs": []
    },
    {
      "cell_type": "code",
      "metadata": {
        "id": "vviA-TXUl193"
      },
      "source": [
        "model = gensim.models.Word2Vec(sentences, min_count=10)"
      ],
      "execution_count": null,
      "outputs": []
    },
    {
      "cell_type": "code",
      "metadata": {
        "id": "wNWaSYjfl10J"
      },
      "source": [
        "# default value of workers=3 (tutorial says 1...)\n",
        "model = gensim.models.Word2Vec(sentences, workers=4)"
      ],
      "execution_count": null,
      "outputs": []
    },
    {
      "cell_type": "code",
      "metadata": {
        "colab": {
          "base_uri": "https://localhost:8080/"
        },
        "id": "rLE_8wV6mSFO",
        "outputId": "9c398f6d-6b3c-4318-a29c-5f4ef7c24b61"
      },
      "source": [
        "model.wv.evaluate_word_analogies(datapath('questions-words.txt'))"
      ],
      "execution_count": null,
      "outputs": [
        {
          "output_type": "execute_result",
          "data": {
            "text/plain": [
              "(0.0,\n",
              " [{'correct': [], 'incorrect': [], 'section': 'capital-common-countries'},\n",
              "  {'correct': [], 'incorrect': [], 'section': 'capital-world'},\n",
              "  {'correct': [], 'incorrect': [], 'section': 'currency'},\n",
              "  {'correct': [], 'incorrect': [], 'section': 'city-in-state'},\n",
              "  {'correct': [],\n",
              "   'incorrect': [('HE', 'SHE', 'HIS', 'HER'), ('HIS', 'HER', 'HE', 'SHE')],\n",
              "   'section': 'family'},\n",
              "  {'correct': [], 'incorrect': [], 'section': 'gram1-adjective-to-adverb'},\n",
              "  {'correct': [], 'incorrect': [], 'section': 'gram2-opposite'},\n",
              "  {'correct': [], 'incorrect': [], 'section': 'gram3-comparative'},\n",
              "  {'correct': [],\n",
              "   'incorrect': [('BIG', 'BIGGEST', 'GOOD', 'BEST'),\n",
              "    ('GOOD', 'BEST', 'BIG', 'BIGGEST')],\n",
              "   'section': 'gram4-superlative'},\n",
              "  {'correct': [],\n",
              "   'incorrect': [('GO', 'GOING', 'LOOK', 'LOOKING'),\n",
              "    ('GO', 'GOING', 'RUN', 'RUNNING'),\n",
              "    ('GO', 'GOING', 'SAY', 'SAYING'),\n",
              "    ('LOOK', 'LOOKING', 'RUN', 'RUNNING'),\n",
              "    ('LOOK', 'LOOKING', 'SAY', 'SAYING'),\n",
              "    ('LOOK', 'LOOKING', 'GO', 'GOING'),\n",
              "    ('RUN', 'RUNNING', 'SAY', 'SAYING'),\n",
              "    ('RUN', 'RUNNING', 'GO', 'GOING'),\n",
              "    ('RUN', 'RUNNING', 'LOOK', 'LOOKING'),\n",
              "    ('SAY', 'SAYING', 'GO', 'GOING'),\n",
              "    ('SAY', 'SAYING', 'LOOK', 'LOOKING'),\n",
              "    ('SAY', 'SAYING', 'RUN', 'RUNNING')],\n",
              "   'section': 'gram5-present-participle'},\n",
              "  {'correct': [],\n",
              "   'incorrect': [('AUSTRALIA', 'AUSTRALIAN', 'INDIA', 'INDIAN'),\n",
              "    ('AUSTRALIA', 'AUSTRALIAN', 'ISRAEL', 'ISRAELI'),\n",
              "    ('INDIA', 'INDIAN', 'ISRAEL', 'ISRAELI'),\n",
              "    ('INDIA', 'INDIAN', 'AUSTRALIA', 'AUSTRALIAN'),\n",
              "    ('ISRAEL', 'ISRAELI', 'AUSTRALIA', 'AUSTRALIAN'),\n",
              "    ('ISRAEL', 'ISRAELI', 'INDIA', 'INDIAN')],\n",
              "   'section': 'gram6-nationality-adjective'},\n",
              "  {'correct': [],\n",
              "   'incorrect': [('GOING', 'WENT', 'SAYING', 'SAID'),\n",
              "    ('GOING', 'WENT', 'TAKING', 'TOOK'),\n",
              "    ('SAYING', 'SAID', 'TAKING', 'TOOK'),\n",
              "    ('SAYING', 'SAID', 'GOING', 'WENT'),\n",
              "    ('TAKING', 'TOOK', 'GOING', 'WENT'),\n",
              "    ('TAKING', 'TOOK', 'SAYING', 'SAID')],\n",
              "   'section': 'gram7-past-tense'},\n",
              "  {'correct': [],\n",
              "   'incorrect': [('BUILDING', 'BUILDINGS', 'CHILD', 'CHILDREN'),\n",
              "    ('BUILDING', 'BUILDINGS', 'MAN', 'MEN'),\n",
              "    ('CHILD', 'CHILDREN', 'MAN', 'MEN'),\n",
              "    ('CHILD', 'CHILDREN', 'BUILDING', 'BUILDINGS'),\n",
              "    ('MAN', 'MEN', 'BUILDING', 'BUILDINGS'),\n",
              "    ('MAN', 'MEN', 'CHILD', 'CHILDREN')],\n",
              "   'section': 'gram8-plural'},\n",
              "  {'correct': [], 'incorrect': [], 'section': 'gram9-plural-verbs'},\n",
              "  {'correct': [],\n",
              "   'incorrect': [('HE', 'SHE', 'HIS', 'HER'),\n",
              "    ('HIS', 'HER', 'HE', 'SHE'),\n",
              "    ('BIG', 'BIGGEST', 'GOOD', 'BEST'),\n",
              "    ('GOOD', 'BEST', 'BIG', 'BIGGEST'),\n",
              "    ('GO', 'GOING', 'LOOK', 'LOOKING'),\n",
              "    ('GO', 'GOING', 'RUN', 'RUNNING'),\n",
              "    ('GO', 'GOING', 'SAY', 'SAYING'),\n",
              "    ('LOOK', 'LOOKING', 'RUN', 'RUNNING'),\n",
              "    ('LOOK', 'LOOKING', 'SAY', 'SAYING'),\n",
              "    ('LOOK', 'LOOKING', 'GO', 'GOING'),\n",
              "    ('RUN', 'RUNNING', 'SAY', 'SAYING'),\n",
              "    ('RUN', 'RUNNING', 'GO', 'GOING'),\n",
              "    ('RUN', 'RUNNING', 'LOOK', 'LOOKING'),\n",
              "    ('SAY', 'SAYING', 'GO', 'GOING'),\n",
              "    ('SAY', 'SAYING', 'LOOK', 'LOOKING'),\n",
              "    ('SAY', 'SAYING', 'RUN', 'RUNNING'),\n",
              "    ('AUSTRALIA', 'AUSTRALIAN', 'INDIA', 'INDIAN'),\n",
              "    ('AUSTRALIA', 'AUSTRALIAN', 'ISRAEL', 'ISRAELI'),\n",
              "    ('INDIA', 'INDIAN', 'ISRAEL', 'ISRAELI'),\n",
              "    ('INDIA', 'INDIAN', 'AUSTRALIA', 'AUSTRALIAN'),\n",
              "    ('ISRAEL', 'ISRAELI', 'AUSTRALIA', 'AUSTRALIAN'),\n",
              "    ('ISRAEL', 'ISRAELI', 'INDIA', 'INDIAN'),\n",
              "    ('GOING', 'WENT', 'SAYING', 'SAID'),\n",
              "    ('GOING', 'WENT', 'TAKING', 'TOOK'),\n",
              "    ('SAYING', 'SAID', 'TAKING', 'TOOK'),\n",
              "    ('SAYING', 'SAID', 'GOING', 'WENT'),\n",
              "    ('TAKING', 'TOOK', 'GOING', 'WENT'),\n",
              "    ('TAKING', 'TOOK', 'SAYING', 'SAID'),\n",
              "    ('BUILDING', 'BUILDINGS', 'CHILD', 'CHILDREN'),\n",
              "    ('BUILDING', 'BUILDINGS', 'MAN', 'MEN'),\n",
              "    ('CHILD', 'CHILDREN', 'MAN', 'MEN'),\n",
              "    ('CHILD', 'CHILDREN', 'BUILDING', 'BUILDINGS'),\n",
              "    ('MAN', 'MEN', 'BUILDING', 'BUILDINGS'),\n",
              "    ('MAN', 'MEN', 'CHILD', 'CHILDREN')],\n",
              "   'section': 'Total accuracy'}])"
            ]
          },
          "metadata": {},
          "execution_count": 19
        }
      ]
    },
    {
      "cell_type": "markdown",
      "metadata": {
        "id": "HDeURIvdM_0F"
      },
      "source": [
        "Implement CBOW and skip gram model for word embedding and print similarity between two word."
      ]
    },
    {
      "cell_type": "code",
      "metadata": {
        "id": "aXhuX6Otfmun",
        "colab": {
          "base_uri": "https://localhost:8080/"
        },
        "outputId": "7805c484-8f7f-4b5f-81d8-fe327e6ed85e"
      },
      "source": [
        "# Python program to implement CBOW and skip gram model for word embedding and print similarity between two word\n",
        "import nltk\n",
        "nltk.download('punkt')\n",
        "\n",
        "\n",
        "# importing all necessary modules\n",
        "from nltk.tokenize import sent_tokenize, word_tokenize\n",
        "import warnings\n",
        "\n",
        "warnings.filterwarnings(action = 'ignore')\n",
        "\n",
        "import gensim\n",
        "from gensim.models import Word2Vec\n",
        "\n",
        "s='''Alice's Adventures in Wonderland (commonly Alice in Wonderland) is an 1865 English children's tale by Lewis Carroll (a pseudonym of Charles Dodgson).[1] A young girl named Alice falls through a rabbit hole into a fantasy world of anthropomorphic creatures. It is seen as a prime example of the literary nonsense genre.[2][3] Its play with logic gives the story lasting popularity with adults as well as children.[2]\n",
        "\n",
        "One of the best-known works of Victorian English fiction, its narrative, structure, characters and imagery have had huge influence on popular culture and literature, especially in the fantasy genre.[3][4][5] The book has never been out of print and has been translated into at least 97 languages.[6] Its legacy covers adaptations for stage, screen, radio, art, ballet, theme parks, board games and video games.[7] Carroll published a sequel in 1871 entitled Through the Looking-Glass and a shortened version for young children, The Nursery \"Alice\", in 1890'''\n",
        "\n",
        "# Replaces escape character with space\n",
        "f = s.replace(\"\\n\", \" \")\n",
        "\n",
        "data = []\n",
        "\n",
        "# iterate through each sentence in the file\n",
        "for i in sent_tokenize(f):\n",
        "\ttemp = []\n",
        "\t\n",
        "\t# tokenize the sentence into words\n",
        "\tfor j in word_tokenize(i):\n",
        "\t\ttemp.append(j.lower())\n",
        "\n",
        "\tdata.append(temp)\n",
        "\n",
        "# Create CBOW model\n",
        "model1 = gensim.models.Word2Vec(data, min_count = 1,\n",
        "\t\t\t\t\t\t\tsize = 100, window = 5)\n",
        "\n",
        "# Print results\n",
        "print(\"Cosine similarity between 'alice' \" +\n",
        "\t\t\t\"and 'wonderland' - CBOW : \",\n",
        "\tmodel1.similarity('alice', 'wonderland'))\n",
        "\t\n",
        "print(\"Cosine similarity between 'alice' \" +\n",
        "\t\t\t\t\"and 'story' - CBOW : \",\n",
        "\tmodel1.similarity('alice', 'story'))\n",
        "\n",
        "# Create Skip Gram model\n",
        "model2 = gensim.models.Word2Vec(data, min_count = 1, size = 100,\n",
        "\t\t\t\t\t\t\t\t\t\t\twindow = 5, sg = 1)\n",
        "\n",
        "# Print results\n",
        "print(\"Cosine similarity between 'alice' \" +\n",
        "\t\t\"and 'wonderland' - Skip Gram : \",\n",
        "\tmodel2.similarity('alice', 'wonderland'))\n",
        "\t\n",
        "print(\"Cosine similarity between 'alice' \" +\n",
        "\t\t\t\"and 'machines' - Skip Gram : \",\n",
        "\tmodel2.similarity('alice', 'story'))"
      ],
      "execution_count": null,
      "outputs": [
        {
          "output_type": "stream",
          "name": "stdout",
          "text": [
            "[nltk_data] Downloading package punkt to /root/nltk_data...\n",
            "[nltk_data]   Unzipping tokenizers/punkt.zip.\n",
            "Cosine similarity between 'alice' and 'wonderland' - CBOW :  0.18161805\n",
            "Cosine similarity between 'alice' and 'story' - CBOW :  0.17034699\n",
            "Cosine similarity between 'alice' and 'wonderland' - Skip Gram :  0.18395017\n",
            "Cosine similarity between 'alice' and 'machines' - Skip Gram :  0.18169542\n"
          ]
        }
      ]
    },
    {
      "cell_type": "markdown",
      "metadata": {
        "id": "98lvzrmLFUuv"
      },
      "source": [
        "### Q. List out applications of word embedding:\n",
        "\n",
        "**Applications of Word Embedding :**\n",
        "- Sentiment Analysis\n",
        "- Speech Recognition\n",
        "- Information Retrieval\n",
        "- Question Answering"
      ]
    },
    {
      "cell_type": "markdown",
      "metadata": {
        "id": "AAseeE1BTXe_"
      },
      "source": [
        "# Part B:- \n",
        "Develop any one application like text classification , sentiment classification using word2vec model"
      ]
    },
    {
      "cell_type": "markdown",
      "metadata": {
        "id": "pwNOq00AT_iv"
      },
      "source": [
        "## **Recommendation System**"
      ]
    },
    {
      "cell_type": "code",
      "metadata": {
        "colab": {
          "base_uri": "https://localhost:8080/",
          "height": 423
        },
        "id": "NZm3cchmdgD2",
        "outputId": "2c6c9ca3-0d9c-4fc9-f517-3d7e3e5ba109"
      },
      "source": [
        "import pandas as pd\n",
        "import numpy as np\n",
        "import random\n",
        "from tqdm import tqdm\n",
        "from gensim.models import Word2Vec \n",
        "import matplotlib.pyplot as plt\n",
        "%matplotlib inline\n",
        "\n",
        "import warnings;\n",
        "warnings.filterwarnings('ignore')\n",
        "df = pd.read_csv('/content/drive/MyDrive/Colab Notebooks/OnlineRetail.csv', header= 0,encoding= 'unicode_escape')\n",
        "df"
      ],
      "execution_count": null,
      "outputs": [
        {
          "output_type": "execute_result",
          "data": {
            "text/html": [
              "<div>\n",
              "<style scoped>\n",
              "    .dataframe tbody tr th:only-of-type {\n",
              "        vertical-align: middle;\n",
              "    }\n",
              "\n",
              "    .dataframe tbody tr th {\n",
              "        vertical-align: top;\n",
              "    }\n",
              "\n",
              "    .dataframe thead th {\n",
              "        text-align: right;\n",
              "    }\n",
              "</style>\n",
              "<table border=\"1\" class=\"dataframe\">\n",
              "  <thead>\n",
              "    <tr style=\"text-align: right;\">\n",
              "      <th></th>\n",
              "      <th>InvoiceNo</th>\n",
              "      <th>StockCode</th>\n",
              "      <th>Description</th>\n",
              "      <th>Quantity</th>\n",
              "      <th>InvoiceDate</th>\n",
              "      <th>UnitPrice</th>\n",
              "      <th>CustomerID</th>\n",
              "      <th>Country</th>\n",
              "    </tr>\n",
              "  </thead>\n",
              "  <tbody>\n",
              "    <tr>\n",
              "      <th>0</th>\n",
              "      <td>536365</td>\n",
              "      <td>85123A</td>\n",
              "      <td>WHITE HANGING HEART T-LIGHT HOLDER</td>\n",
              "      <td>6</td>\n",
              "      <td>12/1/2010 8:26</td>\n",
              "      <td>2.55</td>\n",
              "      <td>17850.0</td>\n",
              "      <td>United Kingdom</td>\n",
              "    </tr>\n",
              "    <tr>\n",
              "      <th>1</th>\n",
              "      <td>536365</td>\n",
              "      <td>71053</td>\n",
              "      <td>WHITE METAL LANTERN</td>\n",
              "      <td>6</td>\n",
              "      <td>12/1/2010 8:26</td>\n",
              "      <td>3.39</td>\n",
              "      <td>17850.0</td>\n",
              "      <td>United Kingdom</td>\n",
              "    </tr>\n",
              "    <tr>\n",
              "      <th>2</th>\n",
              "      <td>536365</td>\n",
              "      <td>84406B</td>\n",
              "      <td>CREAM CUPID HEARTS COAT HANGER</td>\n",
              "      <td>8</td>\n",
              "      <td>12/1/2010 8:26</td>\n",
              "      <td>2.75</td>\n",
              "      <td>17850.0</td>\n",
              "      <td>United Kingdom</td>\n",
              "    </tr>\n",
              "    <tr>\n",
              "      <th>3</th>\n",
              "      <td>536365</td>\n",
              "      <td>84029G</td>\n",
              "      <td>KNITTED UNION FLAG HOT WATER BOTTLE</td>\n",
              "      <td>6</td>\n",
              "      <td>12/1/2010 8:26</td>\n",
              "      <td>3.39</td>\n",
              "      <td>17850.0</td>\n",
              "      <td>United Kingdom</td>\n",
              "    </tr>\n",
              "    <tr>\n",
              "      <th>4</th>\n",
              "      <td>536365</td>\n",
              "      <td>84029E</td>\n",
              "      <td>RED WOOLLY HOTTIE WHITE HEART.</td>\n",
              "      <td>6</td>\n",
              "      <td>12/1/2010 8:26</td>\n",
              "      <td>3.39</td>\n",
              "      <td>17850.0</td>\n",
              "      <td>United Kingdom</td>\n",
              "    </tr>\n",
              "    <tr>\n",
              "      <th>...</th>\n",
              "      <td>...</td>\n",
              "      <td>...</td>\n",
              "      <td>...</td>\n",
              "      <td>...</td>\n",
              "      <td>...</td>\n",
              "      <td>...</td>\n",
              "      <td>...</td>\n",
              "      <td>...</td>\n",
              "    </tr>\n",
              "    <tr>\n",
              "      <th>541904</th>\n",
              "      <td>581587</td>\n",
              "      <td>22613</td>\n",
              "      <td>PACK OF 20 SPACEBOY NAPKINS</td>\n",
              "      <td>12</td>\n",
              "      <td>12/9/2011 12:50</td>\n",
              "      <td>0.85</td>\n",
              "      <td>12680.0</td>\n",
              "      <td>France</td>\n",
              "    </tr>\n",
              "    <tr>\n",
              "      <th>541905</th>\n",
              "      <td>581587</td>\n",
              "      <td>22899</td>\n",
              "      <td>CHILDREN'S APRON DOLLY GIRL</td>\n",
              "      <td>6</td>\n",
              "      <td>12/9/2011 12:50</td>\n",
              "      <td>2.10</td>\n",
              "      <td>12680.0</td>\n",
              "      <td>France</td>\n",
              "    </tr>\n",
              "    <tr>\n",
              "      <th>541906</th>\n",
              "      <td>581587</td>\n",
              "      <td>23254</td>\n",
              "      <td>CHILDRENS CUTLERY DOLLY GIRL</td>\n",
              "      <td>4</td>\n",
              "      <td>12/9/2011 12:50</td>\n",
              "      <td>4.15</td>\n",
              "      <td>12680.0</td>\n",
              "      <td>France</td>\n",
              "    </tr>\n",
              "    <tr>\n",
              "      <th>541907</th>\n",
              "      <td>581587</td>\n",
              "      <td>23255</td>\n",
              "      <td>CHILDRENS CUTLERY CIRCUS PARADE</td>\n",
              "      <td>4</td>\n",
              "      <td>12/9/2011 12:50</td>\n",
              "      <td>4.15</td>\n",
              "      <td>12680.0</td>\n",
              "      <td>France</td>\n",
              "    </tr>\n",
              "    <tr>\n",
              "      <th>541908</th>\n",
              "      <td>581587</td>\n",
              "      <td>22138</td>\n",
              "      <td>BAKING SET 9 PIECE RETROSPOT</td>\n",
              "      <td>3</td>\n",
              "      <td>12/9/2011 12:50</td>\n",
              "      <td>4.95</td>\n",
              "      <td>12680.0</td>\n",
              "      <td>France</td>\n",
              "    </tr>\n",
              "  </tbody>\n",
              "</table>\n",
              "<p>541909 rows × 8 columns</p>\n",
              "</div>"
            ],
            "text/plain": [
              "       InvoiceNo StockCode  ... CustomerID         Country\n",
              "0         536365    85123A  ...    17850.0  United Kingdom\n",
              "1         536365     71053  ...    17850.0  United Kingdom\n",
              "2         536365    84406B  ...    17850.0  United Kingdom\n",
              "3         536365    84029G  ...    17850.0  United Kingdom\n",
              "4         536365    84029E  ...    17850.0  United Kingdom\n",
              "...          ...       ...  ...        ...             ...\n",
              "541904    581587     22613  ...    12680.0          France\n",
              "541905    581587     22899  ...    12680.0          France\n",
              "541906    581587     23254  ...    12680.0          France\n",
              "541907    581587     23255  ...    12680.0          France\n",
              "541908    581587     22138  ...    12680.0          France\n",
              "\n",
              "[541909 rows x 8 columns]"
            ]
          },
          "metadata": {},
          "execution_count": 10
        }
      ]
    },
    {
      "cell_type": "code",
      "metadata": {
        "colab": {
          "base_uri": "https://localhost:8080/"
        },
        "id": "xySUVUS5giWL",
        "outputId": "95ed44d0-4176-48ec-9e00-7de3a8472076"
      },
      "source": [
        "# check for missing values\n",
        "df.isnull().sum()"
      ],
      "execution_count": null,
      "outputs": [
        {
          "output_type": "execute_result",
          "data": {
            "text/plain": [
              "InvoiceNo           0\n",
              "StockCode           0\n",
              "Description      1454\n",
              "Quantity            0\n",
              "InvoiceDate         0\n",
              "UnitPrice           0\n",
              "CustomerID     135080\n",
              "Country             0\n",
              "dtype: int64"
            ]
          },
          "metadata": {},
          "execution_count": 11
        }
      ]
    },
    {
      "cell_type": "code",
      "metadata": {
        "colab": {
          "base_uri": "https://localhost:8080/"
        },
        "id": "Kqe670aUglye",
        "outputId": "f8384aba-7dfd-4903-bea2-f6bc217389ef"
      },
      "source": [
        "# remove missing values\n",
        "df.dropna(inplace=True)\n",
        "\n",
        "df['StockCode']= df['StockCode'].astype(str)\n",
        "\n",
        "customers = df[\"CustomerID\"].unique().tolist()\n",
        "len(customers)"
      ],
      "execution_count": null,
      "outputs": [
        {
          "output_type": "execute_result",
          "data": {
            "text/plain": [
              "4372"
            ]
          },
          "metadata": {},
          "execution_count": 12
        }
      ]
    },
    {
      "cell_type": "code",
      "metadata": {
        "colab": {
          "base_uri": "https://localhost:8080/"
        },
        "id": "BEhCgsv-gsmv",
        "outputId": "a6f6031c-798c-4ae8-f493-94bc529b8173"
      },
      "source": [
        "# shuffle customer ID's\n",
        "random.shuffle(customers)\n",
        "\n",
        "# extract 90% of customer ID's\n",
        "customers_train = [customers[i] for i in range(round(0.9*len(customers)))]\n",
        "\n",
        "# split data into train and validation set\n",
        "train_df = df[df['CustomerID'].isin(customers_train)]\n",
        "validation_df = df[~df['CustomerID'].isin(customers_train)]\n",
        "\n",
        "# list to capture purchase history of the customers\n",
        "purchases_train = []\n",
        "\n",
        "# populate the list with the product codes\n",
        "for i in tqdm(customers_train):\n",
        "    temp = train_df[train_df[\"CustomerID\"] == i][\"StockCode\"].tolist()\n",
        "    purchases_train.append(temp)"
      ],
      "execution_count": null,
      "outputs": [
        {
          "output_type": "stream",
          "name": "stderr",
          "text": [
            "100%|██████████| 3935/3935 [00:05<00:00, 723.52it/s]\n"
          ]
        }
      ]
    },
    {
      "cell_type": "code",
      "metadata": {
        "colab": {
          "base_uri": "https://localhost:8080/"
        },
        "id": "m5z0yzmag1nJ",
        "outputId": "7ab061bd-861a-4394-d4c4-252f472cde3e"
      },
      "source": [
        "# list to capture purchase history of the customers\n",
        "purchases_val = []\n",
        "\n",
        "# populate the list with the product codes\n",
        "for i in tqdm(validation_df['CustomerID'].unique()):\n",
        "    temp = validation_df[validation_df[\"CustomerID\"] == i][\"StockCode\"].tolist()\n",
        "    purchases_val.append(temp)\n",
        "\n",
        "\n",
        "# train word2vec model\n",
        "model = Word2Vec(window = 10, sg = 1, hs = 0,\n",
        "                 negative = 10, # for negative sampling\n",
        "                 alpha=0.03, min_alpha=0.0007,\n",
        "                 seed = 14)\n",
        "\n",
        "model.build_vocab(purchases_train, progress_per=200)\n",
        "\n",
        "model.train(purchases_train, total_examples = model.corpus_count, \n",
        "            epochs=10, report_delay=1)"
      ],
      "execution_count": null,
      "outputs": [
        {
          "output_type": "stream",
          "name": "stderr",
          "text": [
            "100%|██████████| 437/437 [00:00<00:00, 1130.60it/s]\n"
          ]
        },
        {
          "output_type": "execute_result",
          "data": {
            "text/plain": [
              "(3703765, 3739990)"
            ]
          },
          "metadata": {},
          "execution_count": 14
        }
      ]
    },
    {
      "cell_type": "code",
      "metadata": {
        "id": "EkjvwbTEg5VF"
      },
      "source": [
        "model.init_sims(replace=True)"
      ],
      "execution_count": null,
      "outputs": []
    },
    {
      "cell_type": "code",
      "metadata": {
        "colab": {
          "base_uri": "https://localhost:8080/"
        },
        "id": "PlPZFVtsg5vW",
        "outputId": "a19d8b17-cfa4-43c0-b825-4342e61fc5ab"
      },
      "source": [
        "print(model)"
      ],
      "execution_count": null,
      "outputs": [
        {
          "output_type": "stream",
          "name": "stdout",
          "text": [
            "Word2Vec(vocab=3177, size=100, alpha=0.03)\n"
          ]
        }
      ]
    },
    {
      "cell_type": "code",
      "metadata": {
        "colab": {
          "base_uri": "https://localhost:8080/"
        },
        "id": "oeuaHGDbg7iK",
        "outputId": "52d4459f-14d0-4299-8fe6-d6b1e263ed7f"
      },
      "source": [
        "# extract all vectors\n",
        "X = model[model.wv.vocab]\n",
        "\n",
        "X.shape"
      ],
      "execution_count": null,
      "outputs": [
        {
          "output_type": "execute_result",
          "data": {
            "text/plain": [
              "(3177, 100)"
            ]
          },
          "metadata": {},
          "execution_count": 17
        }
      ]
    },
    {
      "cell_type": "code",
      "metadata": {
        "colab": {
          "base_uri": "https://localhost:8080/"
        },
        "id": "M2R_vNrwg_kp",
        "outputId": "8017d919-1d48-4060-d270-948f9b510db2"
      },
      "source": [
        "!pip install numpy==1.20\n",
        "!pip install umap-learn"
      ],
      "execution_count": null,
      "outputs": [
        {
          "output_type": "stream",
          "name": "stdout",
          "text": [
            "Requirement already satisfied: numpy==1.20 in /usr/local/lib/python3.7/dist-packages (1.20.0)\n",
            "Requirement already satisfied: umap-learn in /usr/local/lib/python3.7/dist-packages (0.5.1)\n",
            "Requirement already satisfied: numpy>=1.17 in /usr/local/lib/python3.7/dist-packages (from umap-learn) (1.20.0)\n",
            "Requirement already satisfied: scikit-learn>=0.22 in /usr/local/lib/python3.7/dist-packages (from umap-learn) (0.22.2.post1)\n",
            "Requirement already satisfied: scipy>=1.0 in /usr/local/lib/python3.7/dist-packages (from umap-learn) (1.4.1)\n",
            "Requirement already satisfied: numba>=0.49 in /usr/local/lib/python3.7/dist-packages (from umap-learn) (0.51.2)\n",
            "Requirement already satisfied: pynndescent>=0.5 in /usr/local/lib/python3.7/dist-packages (from umap-learn) (0.5.4)\n",
            "Requirement already satisfied: llvmlite<0.35,>=0.34.0.dev0 in /usr/local/lib/python3.7/dist-packages (from numba>=0.49->umap-learn) (0.34.0)\n",
            "Requirement already satisfied: setuptools in /usr/local/lib/python3.7/dist-packages (from numba>=0.49->umap-learn) (57.4.0)\n",
            "Requirement already satisfied: joblib>=0.11 in /usr/local/lib/python3.7/dist-packages (from pynndescent>=0.5->umap-learn) (1.0.1)\n"
          ]
        }
      ]
    },
    {
      "cell_type": "code",
      "metadata": {
        "colab": {
          "base_uri": "https://localhost:8080/",
          "height": 554
        },
        "id": "dHH2nxZXhFuk",
        "outputId": "fbfa9df5-41da-4786-f948-83e3d91c56d2"
      },
      "source": [
        "#visualizing\n",
        "import umap.umap_ as umap\n",
        "\n",
        "cluster_embedding = umap.UMAP(n_neighbors=30, min_dist=0.0,\n",
        "                              n_components=2, random_state=42).fit_transform(X)\n",
        "\n",
        "plt.figure(figsize=(10,9))\n",
        "plt.scatter(cluster_embedding[:, 0], cluster_embedding[:, 1], s=3, cmap='Spectral')"
      ],
      "execution_count": null,
      "outputs": [
        {
          "output_type": "execute_result",
          "data": {
            "text/plain": [
              "<matplotlib.collections.PathCollection at 0x7fd1ee4f6810>"
            ]
          },
          "metadata": {},
          "execution_count": 21
        },
        {
          "output_type": "display_data",
          "data": {
            "image/png": "[encoded data removed]",
            "text/plain": [
              "<Figure size 720x648 with 1 Axes>"
            ]
          },
          "metadata": {
            "needs_background": "light"
          }
        }
      ]
    },
    {
      "cell_type": "code",
      "metadata": {
        "colab": {
          "base_uri": "https://localhost:8080/"
        },
        "id": "bxFrRcI8iJwy",
        "outputId": "d25aa59b-91af-4e63-ca36-3716c53d9be1"
      },
      "source": [
        "!pip uninstall umap\n",
        "!pip install umap-learn"
      ],
      "execution_count": null,
      "outputs": [
        {
          "output_type": "stream",
          "name": "stdout",
          "text": [
            "\u001b[33mWARNING: Skipping umap as it is not installed.\u001b[0m\n",
            "Requirement already satisfied: umap-learn in /usr/local/lib/python3.7/dist-packages (0.5.1)\n",
            "Requirement already satisfied: scipy>=1.0 in /usr/local/lib/python3.7/dist-packages (from umap-learn) (1.4.1)\n",
            "Requirement already satisfied: pynndescent>=0.5 in /usr/local/lib/python3.7/dist-packages (from umap-learn) (0.5.4)\n",
            "Requirement already satisfied: scikit-learn>=0.22 in /usr/local/lib/python3.7/dist-packages (from umap-learn) (0.22.2.post1)\n",
            "Requirement already satisfied: numpy>=1.17 in /usr/local/lib/python3.7/dist-packages (from umap-learn) (1.20.0)\n",
            "Requirement already satisfied: numba>=0.49 in /usr/local/lib/python3.7/dist-packages (from umap-learn) (0.51.2)\n",
            "Requirement already satisfied: setuptools in /usr/local/lib/python3.7/dist-packages (from numba>=0.49->umap-learn) (57.4.0)\n",
            "Requirement already satisfied: llvmlite<0.35,>=0.34.0.dev0 in /usr/local/lib/python3.7/dist-packages (from numba>=0.49->umap-learn) (0.34.0)\n",
            "Requirement already satisfied: joblib>=0.11 in /usr/local/lib/python3.7/dist-packages (from pynndescent>=0.5->umap-learn) (1.0.1)\n"
          ]
        }
      ]
    },
    {
      "cell_type": "code",
      "metadata": {
        "id": "1PPx8cX_hMv8"
      },
      "source": [
        "products = train_df[[\"StockCode\", \"Description\"]]\n",
        "\n",
        "# remove duplicates\n",
        "products.drop_duplicates(inplace=True, subset='StockCode', keep=\"last\")\n",
        "\n",
        "# create product-ID and product-description dictionary\n",
        "products_dict = products.groupby('StockCode')['Description'].apply(list).to_dict()"
      ],
      "execution_count": null,
      "outputs": []
    },
    {
      "cell_type": "code",
      "metadata": {
        "colab": {
          "base_uri": "https://localhost:8080/"
        },
        "id": "tC9OGFNAhOfM",
        "outputId": "16b0e322-daa0-4bd8-9c30-93ed760dd44e"
      },
      "source": [
        "# test the dictionary\n",
        "products_dict['84029E']"
      ],
      "execution_count": null,
      "outputs": [
        {
          "output_type": "execute_result",
          "data": {
            "text/plain": [
              "['RED WOOLLY HOTTIE WHITE HEART.']"
            ]
          },
          "metadata": {},
          "execution_count": 24
        }
      ]
    },
    {
      "cell_type": "code",
      "metadata": {
        "id": "v0lKVO2nhQSr"
      },
      "source": [
        "def similar_products(v, n = 6):\n",
        "    \n",
        "    # extract most similar products for the input vector\n",
        "    ms = model.similar_by_vector(v, topn= n+1)[1:]\n",
        "    \n",
        "    # extract name and similarity score of the similar products\n",
        "    new_ms = []\n",
        "    for j in ms:\n",
        "        pair = (products_dict[j[0]][0], j[1])\n",
        "        new_ms.append(pair)\n",
        "        \n",
        "    return new_ms   "
      ],
      "execution_count": null,
      "outputs": []
    },
    {
      "cell_type": "code",
      "metadata": {
        "colab": {
          "base_uri": "https://localhost:8080/"
        },
        "id": "N7qGSksThTvU",
        "outputId": "5126b730-2058-49c0-f0fd-36a336274c35"
      },
      "source": [
        "#recomending similar products to 84029G\tKNITTED UNION FLAG HOT WATER BOTTLE\n",
        "similar_products(model['84029G'])"
      ],
      "execution_count": null,
      "outputs": [
        {
          "output_type": "execute_result",
          "data": {
            "text/plain": [
              "[('RED WOOLLY HOTTIE WHITE HEART.', 0.811159610748291),\n",
              " ('SCOTTIE DOG HOT WATER BOTTLE', 0.7328979969024658),\n",
              " ('ENGLISH ROSE HOT WATER BOTTLE', 0.710967481136322),\n",
              " ('WHITE SKULL HOT WATER BOTTLE ', 0.6879210472106934),\n",
              " ('RETROSPOT HEART HOT WATER BOTTLE', 0.6830090284347534),\n",
              " ('HOT WATER BOTTLE I AM SO POORLY', 0.6753029823303223)]"
            ]
          },
          "metadata": {},
          "execution_count": 29
        }
      ]
    },
    {
      "cell_type": "code",
      "metadata": {
        "colab": {
          "base_uri": "https://localhost:8080/"
        },
        "id": "geu7COzwhSAk",
        "outputId": "ad2301fc-35a5-45f1-81c5-50f677e7f569"
      },
      "source": [
        "#recomending similar products to 85123A\tWHITE HANGING HEART T-LIGHT HOLDER\n",
        "similar_products(model['85123A'])"
      ],
      "execution_count": null,
      "outputs": [
        {
          "output_type": "execute_result",
          "data": {
            "text/plain": [
              "[('PINK HANGING HEART T-LIGHT HOLDER', 0.6924987435340881),\n",
              " ('RED HANGING HEART T-LIGHT HOLDER', 0.663631796836853),\n",
              " ('T-LIGHT HOLDER SWEETHEART HANGING', 0.6292834281921387),\n",
              " ('LOVE BUILDING BLOCK WORD', 0.612830400466919),\n",
              " ('CREAM HEART CARD HOLDER', 0.6106171607971191),\n",
              " ('WOODEN PICTURE FRAME WHITE FINISH', 0.6064338088035583)]"
            ]
          },
          "metadata": {},
          "execution_count": 26
        }
      ]
    },
    {
      "cell_type": "code",
      "metadata": {
        "id": "hx4k-lPMhW-g"
      },
      "source": [
        ""
      ],
      "execution_count": null,
      "outputs": []
    }
  ]
}
