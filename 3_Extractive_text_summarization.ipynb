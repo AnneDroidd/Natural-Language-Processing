{
  "nbformat": 4,
  "nbformat_minor": 0,
  "metadata": {
    "colab": {
      "name": "Shubhasmita_Roy_nlp_3.ipynb",
      "provenance": [],
      "collapsed_sections": [],
      "authorship_tag": "ABX9TyNwfwi468e+wAah16VSIqoO"
    },
    "kernelspec": {
      "name": "python3",
      "display_name": "Python 3"
    },
    "language_info": {
      "name": "python"
    }
  },
  "cells": [
    {
      "cell_type": "code",
      "metadata": {
        "id": "Cf3O-leYnCSJ"
      },
      "source": [
        "text=\"Tell me not, in mournful numbers, Life is but an empty dream! For the soul is dead that slumbers, And things are not what they seem. Life is real! Life is earnest! And the grave is not its goal; Dust thou art, to dust returnest, Was not spoken of the soul. Not enjoyment, and not sorrow, Is our destined end or way; But to act, that each to-morrow Find us farther than to-day. Art is long, and Time is fleeting, And our hearts, though stout and brave, Still, like muffled drums, are beating Funeral marches to the grave. In the world’s broad field of battle, In the bivouac of Life, Be not like dumb, driven cattle! Be a hero in the strife! Trust no Future, howe’er pleasant! Let the dead Past bury its dead! Act,— act in the living Present! Heart within, and God o’erhead! Lives of great men all remind us We can make our lives sublime, And, departing, leave behind us Footprints on the sands of time; Footprints, that perhaps another, Sailing o’er life’s solemn main, A forlorn and shipwrecked brother, Seeing, shall take heart again. Let us, then, be up and doing, With a heart for any fate; Still achieving, still pursuing, Learn to labor and to wait.\""
      ],
      "execution_count": null,
      "outputs": []
    },
    {
      "cell_type": "code",
      "metadata": {
        "colab": {
          "base_uri": "https://localhost:8080/"
        },
        "id": "uewHY0f_nUAY",
        "outputId": "3f48bacd-2b9d-43f1-c427-d76d416bd315"
      },
      "source": [
        "import nltk; \n",
        "nltk.download('punkt')\n",
        "nltk.download('stopwords')"
      ],
      "execution_count": null,
      "outputs": [
        {
          "output_type": "stream",
          "text": [
            "[nltk_data] Downloading package punkt to /root/nltk_data...\n",
            "[nltk_data]   Unzipping tokenizers/punkt.zip.\n",
            "[nltk_data] Downloading package stopwords to /root/nltk_data...\n",
            "[nltk_data]   Unzipping corpora/stopwords.zip.\n"
          ],
          "name": "stdout"
        },
        {
          "output_type": "execute_result",
          "data": {
            "text/plain": [
              "True"
            ]
          },
          "metadata": {
            "tags": []
          },
          "execution_count": 2
        }
      ]
    },
    {
      "cell_type": "code",
      "metadata": {
        "id": "99A111EFnVz-"
      },
      "source": [
        "import math\n",
        "from nltk import sent_tokenize, word_tokenize, PorterStemmer\n",
        "from nltk.corpus import stopwords  "
      ],
      "execution_count": null,
      "outputs": []
    },
    {
      "cell_type": "markdown",
      "metadata": {
        "id": "PFVavAhznZ_E"
      },
      "source": [
        "# 1. tokenize sentences"
      ]
    },
    {
      "cell_type": "code",
      "metadata": {
        "colab": {
          "base_uri": "https://localhost:8080/"
        },
        "id": "gdkxEUk5nXyv",
        "outputId": "0d580ce5-47f9-4d01-db01-c88535baf347"
      },
      "source": [
        "#tokenize sentence\n",
        "sentences = sent_tokenize(text) # NLTK function\n",
        "total_documents = len(sentences)\n",
        "sentences"
      ],
      "execution_count": null,
      "outputs": [
        {
          "output_type": "execute_result",
          "data": {
            "text/plain": [
              "['Tell me not, in mournful numbers, Life is but an empty dream!',\n",
              " 'For the soul is dead that slumbers, And things are not what they seem.',\n",
              " 'Life is real!',\n",
              " 'Life is earnest!',\n",
              " 'And the grave is not its goal; Dust thou art, to dust returnest, Was not spoken of the soul.',\n",
              " 'Not enjoyment, and not sorrow, Is our destined end or way; But to act, that each to-morrow Find us farther than to-day.',\n",
              " 'Art is long, and Time is fleeting, And our hearts, though stout and brave, Still, like muffled drums, are beating Funeral marches to the grave.',\n",
              " 'In the world’s broad field of battle, In the bivouac of Life, Be not like dumb, driven cattle!',\n",
              " 'Be a hero in the strife!',\n",
              " 'Trust no Future, howe’er pleasant!',\n",
              " 'Let the dead Past bury its dead!',\n",
              " 'Act,— act in the living Present!',\n",
              " 'Heart within, and God o’erhead!',\n",
              " 'Lives of great men all remind us We can make our lives sublime, And, departing, leave behind us Footprints on the sands of time; Footprints, that perhaps another, Sailing o’er life’s solemn main, A forlorn and shipwrecked brother, Seeing, shall take heart again.',\n",
              " 'Let us, then, be up and doing, With a heart for any fate; Still achieving, still pursuing, Learn to labor and to wait.']"
            ]
          },
          "metadata": {
            "tags": []
          },
          "execution_count": 4
        }
      ]
    },
    {
      "cell_type": "markdown",
      "metadata": {
        "id": "LnxSAHHfnmN2"
      },
      "source": [
        "# 2. Create the Frequency matrix of the words in each sentence."
      ]
    },
    {
      "cell_type": "code",
      "metadata": {
        "id": "m1-rGNnSne6C"
      },
      "source": [
        "def _create_frequency_matrix(sentences):\n",
        "    frequency_matrix = {}\n",
        "    stopWords = set(stopwords.words(\"english\"))\n",
        "    ps = PorterStemmer()\n",
        "\n",
        "    for sent in sentences:\n",
        "        freq_table = {}\n",
        "        words = word_tokenize(sent)\n",
        "        for word in words:\n",
        "            word = word.lower()\n",
        "            word = ps.stem(word)\n",
        "            if word in stopWords:\n",
        "                continue\n",
        "\n",
        "            if word in freq_table:\n",
        "                freq_table[word] += 1\n",
        "            else:\n",
        "                freq_table[word] = 1\n",
        "\n",
        "        frequency_matrix[sent[:15]] = freq_table\n",
        "\n",
        "    return frequency_matrix"
      ],
      "execution_count": null,
      "outputs": []
    },
    {
      "cell_type": "code",
      "metadata": {
        "colab": {
          "base_uri": "https://localhost:8080/"
        },
        "id": "iYawwb1fnsU4",
        "outputId": "87e6f577-6d69-4d2d-c569-738c14ddf86e"
      },
      "source": [
        "# 2 Create the Frequency matrix of the words in each sentence.\n",
        "freq_matrix = _create_frequency_matrix(sentences)\n",
        "freq_matrix"
      ],
      "execution_count": null,
      "outputs": [
        {
          "output_type": "execute_result",
          "data": {
            "text/plain": [
              "{'Act,— act in th': {'!': 1,\n",
              "  ',': 1,\n",
              "  'act': 2,\n",
              "  'live': 1,\n",
              "  'present': 1,\n",
              "  '—': 1},\n",
              " 'And the grave i': {',': 2,\n",
              "  '.': 1,\n",
              "  ';': 1,\n",
              "  'art': 1,\n",
              "  'dust': 2,\n",
              "  'goal': 1,\n",
              "  'grave': 1,\n",
              "  'returnest': 1,\n",
              "  'soul': 1,\n",
              "  'spoken': 1,\n",
              "  'thou': 1,\n",
              "  'wa': 1},\n",
              " 'Art is long, an': {',': 6,\n",
              "  '.': 1,\n",
              "  'art': 1,\n",
              "  'beat': 1,\n",
              "  'brave': 1,\n",
              "  'drum': 1,\n",
              "  'fleet': 1,\n",
              "  'funer': 1,\n",
              "  'grave': 1,\n",
              "  'heart': 1,\n",
              "  'like': 1,\n",
              "  'long': 1,\n",
              "  'march': 1,\n",
              "  'muffl': 1,\n",
              "  'still': 1,\n",
              "  'stout': 1,\n",
              "  'though': 1,\n",
              "  'time': 1},\n",
              " 'Be a hero in th': {'!': 1, 'hero': 1, 'strife': 1},\n",
              " 'For the soul is': {',': 1,\n",
              "  '.': 1,\n",
              "  'dead': 1,\n",
              "  'seem': 1,\n",
              "  'slumber': 1,\n",
              "  'soul': 1,\n",
              "  'thing': 1},\n",
              " 'Heart within, a': {'!': 1,\n",
              "  ',': 1,\n",
              "  'erhead': 1,\n",
              "  'god': 1,\n",
              "  'heart': 1,\n",
              "  'within': 1,\n",
              "  '’': 1},\n",
              " 'In the world’s ': {'!': 1,\n",
              "  ',': 3,\n",
              "  'battl': 1,\n",
              "  'bivouac': 1,\n",
              "  'broad': 1,\n",
              "  'cattl': 1,\n",
              "  'driven': 1,\n",
              "  'dumb': 1,\n",
              "  'field': 1,\n",
              "  'life': 1,\n",
              "  'like': 1,\n",
              "  'world': 1,\n",
              "  '’': 1},\n",
              " 'Let the dead Pa': {'!': 1, 'buri': 1, 'dead': 2, 'let': 1, 'past': 1},\n",
              " 'Let us, then, b': {',': 5,\n",
              "  '.': 1,\n",
              "  ';': 1,\n",
              "  'achiev': 1,\n",
              "  'ani': 1,\n",
              "  'fate': 1,\n",
              "  'heart': 1,\n",
              "  'labor': 1,\n",
              "  'learn': 1,\n",
              "  'let': 1,\n",
              "  'pursu': 1,\n",
              "  'still': 2,\n",
              "  'us': 1,\n",
              "  'wait': 1},\n",
              " 'Life is earnest': {'!': 1, 'earnest': 1, 'life': 1},\n",
              " 'Life is real!': {'!': 1, 'life': 1, 'real': 1},\n",
              " 'Lives of great ': {',': 8,\n",
              "  '.': 1,\n",
              "  ';': 1,\n",
              "  'anoth': 1,\n",
              "  'behind': 1,\n",
              "  'brother': 1,\n",
              "  'depart': 1,\n",
              "  'er': 1,\n",
              "  'footprint': 2,\n",
              "  'forlorn': 1,\n",
              "  'great': 1,\n",
              "  'heart': 1,\n",
              "  'leav': 1,\n",
              "  'life': 1,\n",
              "  'live': 2,\n",
              "  'main': 1,\n",
              "  'make': 1,\n",
              "  'men': 1,\n",
              "  'perhap': 1,\n",
              "  'remind': 1,\n",
              "  'sail': 1,\n",
              "  'sand': 1,\n",
              "  'see': 1,\n",
              "  'shall': 1,\n",
              "  'shipwreck': 1,\n",
              "  'solemn': 1,\n",
              "  'sublim': 1,\n",
              "  'take': 1,\n",
              "  'time': 1,\n",
              "  'us': 2,\n",
              "  '’': 2},\n",
              " 'Not enjoyment, ': {',': 3,\n",
              "  '.': 1,\n",
              "  ';': 1,\n",
              "  'act': 1,\n",
              "  'destin': 1,\n",
              "  'end': 1,\n",
              "  'enjoy': 1,\n",
              "  'farther': 1,\n",
              "  'find': 1,\n",
              "  'sorrow': 1,\n",
              "  'to-day': 1,\n",
              "  'to-morrow': 1,\n",
              "  'us': 1,\n",
              "  'way': 1},\n",
              " 'Tell me not, in': {'!': 1,\n",
              "  ',': 2,\n",
              "  'dream': 1,\n",
              "  'empti': 1,\n",
              "  'life': 1,\n",
              "  'mourn': 1,\n",
              "  'number': 1,\n",
              "  'tell': 1},\n",
              " 'Trust no Future': {'!': 1,\n",
              "  ',': 1,\n",
              "  'er': 1,\n",
              "  'futur': 1,\n",
              "  'howe': 1,\n",
              "  'pleasant': 1,\n",
              "  'trust': 1,\n",
              "  '’': 1}}"
            ]
          },
          "metadata": {
            "tags": []
          },
          "execution_count": 6
        }
      ]
    },
    {
      "cell_type": "markdown",
      "metadata": {
        "id": "8xgEB113pk8E"
      },
      "source": [
        "# 3. Calculate TermFrequency and generate a matrix\n",
        "TF(t) = (Number of times term t appears in a document) / (Total number of terms in the document) Here, the document is a paragraph, the term is a word in a paragraph."
      ]
    },
    {
      "cell_type": "code",
      "metadata": {
        "id": "VngpKuOQphet"
      },
      "source": [
        "def _create_tf_matrix(freq_matrix):\n",
        "    tf_matrix = {}\n",
        "\n",
        "    for sent, f_table in freq_matrix.items():\n",
        "        tf_table = {}\n",
        "\n",
        "        count_words_in_sentence = len(f_table)\n",
        "        for word, count in f_table.items():\n",
        "            tf_table[word] = count / count_words_in_sentence\n",
        "\n",
        "        tf_matrix[sent] = tf_table\n",
        "\n",
        "    return tf_matrix"
      ],
      "execution_count": null,
      "outputs": []
    },
    {
      "cell_type": "code",
      "metadata": {
        "colab": {
          "base_uri": "https://localhost:8080/"
        },
        "id": "TVIPeqG7poBu",
        "outputId": "f3e7d532-b12b-41aa-f0e2-3724283b1118"
      },
      "source": [
        "# 3 Calculate TermFrequency and generate a matrix\n",
        "tf_matrix = _create_tf_matrix(freq_matrix)\n",
        "tf_matrix"
      ],
      "execution_count": null,
      "outputs": [
        {
          "output_type": "execute_result",
          "data": {
            "text/plain": [
              "{'Act,— act in th': {'!': 0.16666666666666666,\n",
              "  ',': 0.16666666666666666,\n",
              "  'act': 0.3333333333333333,\n",
              "  'live': 0.16666666666666666,\n",
              "  'present': 0.16666666666666666,\n",
              "  '—': 0.16666666666666666},\n",
              " 'And the grave i': {',': 0.16666666666666666,\n",
              "  '.': 0.08333333333333333,\n",
              "  ';': 0.08333333333333333,\n",
              "  'art': 0.08333333333333333,\n",
              "  'dust': 0.16666666666666666,\n",
              "  'goal': 0.08333333333333333,\n",
              "  'grave': 0.08333333333333333,\n",
              "  'returnest': 0.08333333333333333,\n",
              "  'soul': 0.08333333333333333,\n",
              "  'spoken': 0.08333333333333333,\n",
              "  'thou': 0.08333333333333333,\n",
              "  'wa': 0.08333333333333333},\n",
              " 'Art is long, an': {',': 0.3333333333333333,\n",
              "  '.': 0.05555555555555555,\n",
              "  'art': 0.05555555555555555,\n",
              "  'beat': 0.05555555555555555,\n",
              "  'brave': 0.05555555555555555,\n",
              "  'drum': 0.05555555555555555,\n",
              "  'fleet': 0.05555555555555555,\n",
              "  'funer': 0.05555555555555555,\n",
              "  'grave': 0.05555555555555555,\n",
              "  'heart': 0.05555555555555555,\n",
              "  'like': 0.05555555555555555,\n",
              "  'long': 0.05555555555555555,\n",
              "  'march': 0.05555555555555555,\n",
              "  'muffl': 0.05555555555555555,\n",
              "  'still': 0.05555555555555555,\n",
              "  'stout': 0.05555555555555555,\n",
              "  'though': 0.05555555555555555,\n",
              "  'time': 0.05555555555555555},\n",
              " 'Be a hero in th': {'!': 0.3333333333333333,\n",
              "  'hero': 0.3333333333333333,\n",
              "  'strife': 0.3333333333333333},\n",
              " 'For the soul is': {',': 0.14285714285714285,\n",
              "  '.': 0.14285714285714285,\n",
              "  'dead': 0.14285714285714285,\n",
              "  'seem': 0.14285714285714285,\n",
              "  'slumber': 0.14285714285714285,\n",
              "  'soul': 0.14285714285714285,\n",
              "  'thing': 0.14285714285714285},\n",
              " 'Heart within, a': {'!': 0.14285714285714285,\n",
              "  ',': 0.14285714285714285,\n",
              "  'erhead': 0.14285714285714285,\n",
              "  'god': 0.14285714285714285,\n",
              "  'heart': 0.14285714285714285,\n",
              "  'within': 0.14285714285714285,\n",
              "  '’': 0.14285714285714285},\n",
              " 'In the world’s ': {'!': 0.07692307692307693,\n",
              "  ',': 0.23076923076923078,\n",
              "  'battl': 0.07692307692307693,\n",
              "  'bivouac': 0.07692307692307693,\n",
              "  'broad': 0.07692307692307693,\n",
              "  'cattl': 0.07692307692307693,\n",
              "  'driven': 0.07692307692307693,\n",
              "  'dumb': 0.07692307692307693,\n",
              "  'field': 0.07692307692307693,\n",
              "  'life': 0.07692307692307693,\n",
              "  'like': 0.07692307692307693,\n",
              "  'world': 0.07692307692307693,\n",
              "  '’': 0.07692307692307693},\n",
              " 'Let the dead Pa': {'!': 0.2,\n",
              "  'buri': 0.2,\n",
              "  'dead': 0.4,\n",
              "  'let': 0.2,\n",
              "  'past': 0.2},\n",
              " 'Let us, then, b': {',': 0.35714285714285715,\n",
              "  '.': 0.07142857142857142,\n",
              "  ';': 0.07142857142857142,\n",
              "  'achiev': 0.07142857142857142,\n",
              "  'ani': 0.07142857142857142,\n",
              "  'fate': 0.07142857142857142,\n",
              "  'heart': 0.07142857142857142,\n",
              "  'labor': 0.07142857142857142,\n",
              "  'learn': 0.07142857142857142,\n",
              "  'let': 0.07142857142857142,\n",
              "  'pursu': 0.07142857142857142,\n",
              "  'still': 0.14285714285714285,\n",
              "  'us': 0.07142857142857142,\n",
              "  'wait': 0.07142857142857142},\n",
              " 'Life is earnest': {'!': 0.3333333333333333,\n",
              "  'earnest': 0.3333333333333333,\n",
              "  'life': 0.3333333333333333},\n",
              " 'Life is real!': {'!': 0.3333333333333333,\n",
              "  'life': 0.3333333333333333,\n",
              "  'real': 0.3333333333333333},\n",
              " 'Lives of great ': {',': 0.25806451612903225,\n",
              "  '.': 0.03225806451612903,\n",
              "  ';': 0.03225806451612903,\n",
              "  'anoth': 0.03225806451612903,\n",
              "  'behind': 0.03225806451612903,\n",
              "  'brother': 0.03225806451612903,\n",
              "  'depart': 0.03225806451612903,\n",
              "  'er': 0.03225806451612903,\n",
              "  'footprint': 0.06451612903225806,\n",
              "  'forlorn': 0.03225806451612903,\n",
              "  'great': 0.03225806451612903,\n",
              "  'heart': 0.03225806451612903,\n",
              "  'leav': 0.03225806451612903,\n",
              "  'life': 0.03225806451612903,\n",
              "  'live': 0.06451612903225806,\n",
              "  'main': 0.03225806451612903,\n",
              "  'make': 0.03225806451612903,\n",
              "  'men': 0.03225806451612903,\n",
              "  'perhap': 0.03225806451612903,\n",
              "  'remind': 0.03225806451612903,\n",
              "  'sail': 0.03225806451612903,\n",
              "  'sand': 0.03225806451612903,\n",
              "  'see': 0.03225806451612903,\n",
              "  'shall': 0.03225806451612903,\n",
              "  'shipwreck': 0.03225806451612903,\n",
              "  'solemn': 0.03225806451612903,\n",
              "  'sublim': 0.03225806451612903,\n",
              "  'take': 0.03225806451612903,\n",
              "  'time': 0.03225806451612903,\n",
              "  'us': 0.06451612903225806,\n",
              "  '’': 0.06451612903225806},\n",
              " 'Not enjoyment, ': {',': 0.21428571428571427,\n",
              "  '.': 0.07142857142857142,\n",
              "  ';': 0.07142857142857142,\n",
              "  'act': 0.07142857142857142,\n",
              "  'destin': 0.07142857142857142,\n",
              "  'end': 0.07142857142857142,\n",
              "  'enjoy': 0.07142857142857142,\n",
              "  'farther': 0.07142857142857142,\n",
              "  'find': 0.07142857142857142,\n",
              "  'sorrow': 0.07142857142857142,\n",
              "  'to-day': 0.07142857142857142,\n",
              "  'to-morrow': 0.07142857142857142,\n",
              "  'us': 0.07142857142857142,\n",
              "  'way': 0.07142857142857142},\n",
              " 'Tell me not, in': {'!': 0.125,\n",
              "  ',': 0.25,\n",
              "  'dream': 0.125,\n",
              "  'empti': 0.125,\n",
              "  'life': 0.125,\n",
              "  'mourn': 0.125,\n",
              "  'number': 0.125,\n",
              "  'tell': 0.125},\n",
              " 'Trust no Future': {'!': 0.125,\n",
              "  ',': 0.125,\n",
              "  'er': 0.125,\n",
              "  'futur': 0.125,\n",
              "  'howe': 0.125,\n",
              "  'pleasant': 0.125,\n",
              "  'trust': 0.125,\n",
              "  '’': 0.125}}"
            ]
          },
          "metadata": {
            "tags": []
          },
          "execution_count": 8
        }
      ]
    },
    {
      "cell_type": "markdown",
      "metadata": {
        "id": "SgJsN0vGp_kn"
      },
      "source": [
        "# 4. Creating a table for documents per words\n",
        "This again a simple table which helps in calculating IDF matrix. we calculate, “how many sentences contain a word”, Let’s call it Documents per words matrix."
      ]
    },
    {
      "cell_type": "code",
      "metadata": {
        "id": "4gBITjLEp77u"
      },
      "source": [
        "def _create_documents_per_words(freq_matrix):\n",
        "    word_per_doc_table = {}\n",
        "\n",
        "    for sent, f_table in freq_matrix.items():\n",
        "        for word, count in f_table.items():\n",
        "            if word in word_per_doc_table:\n",
        "                word_per_doc_table[word] += 1\n",
        "            else:\n",
        "                word_per_doc_table[word] = 1\n",
        "\n",
        "    return word_per_doc_table"
      ],
      "execution_count": null,
      "outputs": []
    },
    {
      "cell_type": "code",
      "metadata": {
        "colab": {
          "base_uri": "https://localhost:8080/"
        },
        "id": "hCIRRxnxqDVL",
        "outputId": "b0830515-0619-415a-c403-8290a489b495"
      },
      "source": [
        "# 4 creating table for documents per words\n",
        "count_doc_per_words = _create_documents_per_words(freq_matrix)\n",
        "count_doc_per_words"
      ],
      "execution_count": null,
      "outputs": [
        {
          "output_type": "execute_result",
          "data": {
            "text/plain": [
              "{'!': 9,\n",
              " ',': 11,\n",
              " '.': 6,\n",
              " ';': 4,\n",
              " 'achiev': 1,\n",
              " 'act': 2,\n",
              " 'ani': 1,\n",
              " 'anoth': 1,\n",
              " 'art': 2,\n",
              " 'battl': 1,\n",
              " 'beat': 1,\n",
              " 'behind': 1,\n",
              " 'bivouac': 1,\n",
              " 'brave': 1,\n",
              " 'broad': 1,\n",
              " 'brother': 1,\n",
              " 'buri': 1,\n",
              " 'cattl': 1,\n",
              " 'dead': 2,\n",
              " 'depart': 1,\n",
              " 'destin': 1,\n",
              " 'dream': 1,\n",
              " 'driven': 1,\n",
              " 'drum': 1,\n",
              " 'dumb': 1,\n",
              " 'dust': 1,\n",
              " 'earnest': 1,\n",
              " 'empti': 1,\n",
              " 'end': 1,\n",
              " 'enjoy': 1,\n",
              " 'er': 2,\n",
              " 'erhead': 1,\n",
              " 'farther': 1,\n",
              " 'fate': 1,\n",
              " 'field': 1,\n",
              " 'find': 1,\n",
              " 'fleet': 1,\n",
              " 'footprint': 1,\n",
              " 'forlorn': 1,\n",
              " 'funer': 1,\n",
              " 'futur': 1,\n",
              " 'goal': 1,\n",
              " 'god': 1,\n",
              " 'grave': 2,\n",
              " 'great': 1,\n",
              " 'heart': 4,\n",
              " 'hero': 1,\n",
              " 'howe': 1,\n",
              " 'labor': 1,\n",
              " 'learn': 1,\n",
              " 'leav': 1,\n",
              " 'let': 2,\n",
              " 'life': 5,\n",
              " 'like': 2,\n",
              " 'live': 2,\n",
              " 'long': 1,\n",
              " 'main': 1,\n",
              " 'make': 1,\n",
              " 'march': 1,\n",
              " 'men': 1,\n",
              " 'mourn': 1,\n",
              " 'muffl': 1,\n",
              " 'number': 1,\n",
              " 'past': 1,\n",
              " 'perhap': 1,\n",
              " 'pleasant': 1,\n",
              " 'present': 1,\n",
              " 'pursu': 1,\n",
              " 'real': 1,\n",
              " 'remind': 1,\n",
              " 'returnest': 1,\n",
              " 'sail': 1,\n",
              " 'sand': 1,\n",
              " 'see': 1,\n",
              " 'seem': 1,\n",
              " 'shall': 1,\n",
              " 'shipwreck': 1,\n",
              " 'slumber': 1,\n",
              " 'solemn': 1,\n",
              " 'sorrow': 1,\n",
              " 'soul': 2,\n",
              " 'spoken': 1,\n",
              " 'still': 2,\n",
              " 'stout': 1,\n",
              " 'strife': 1,\n",
              " 'sublim': 1,\n",
              " 'take': 1,\n",
              " 'tell': 1,\n",
              " 'thing': 1,\n",
              " 'thou': 1,\n",
              " 'though': 1,\n",
              " 'time': 2,\n",
              " 'to-day': 1,\n",
              " 'to-morrow': 1,\n",
              " 'trust': 1,\n",
              " 'us': 3,\n",
              " 'wa': 1,\n",
              " 'wait': 1,\n",
              " 'way': 1,\n",
              " 'within': 1,\n",
              " 'world': 1,\n",
              " '—': 1,\n",
              " '’': 4}"
            ]
          },
          "metadata": {
            "tags": []
          },
          "execution_count": 10
        }
      ]
    },
    {
      "cell_type": "markdown",
      "metadata": {
        "id": "iFs_XZapqNpC"
      },
      "source": [
        "# 5. Calculate IDF and generate a matrix\n",
        "We’ll find the IDF for each word in a paragraph. Now, remember the definition of IDF, IDF(t) = log_e(Total number of documents / Number of documents with term t in it) Here, the document is a paragraph, the term is a word in a paragraph.\n",
        "\n"
      ]
    },
    {
      "cell_type": "code",
      "metadata": {
        "id": "ezO9hzayqG9w"
      },
      "source": [
        "def _create_idf_matrix(freq_matrix, count_doc_per_words, total_documents):\n",
        "    idf_matrix = {}\n",
        "\n",
        "    for sent, f_table in freq_matrix.items():\n",
        "        idf_table = {}\n",
        "\n",
        "        for word in f_table.keys():\n",
        "            idf_table[word] = math.log10(total_documents / float(count_doc_per_words[word]))\n",
        "\n",
        "        idf_matrix[sent] = idf_table\n",
        "\n",
        "    return idf_matrix"
      ],
      "execution_count": null,
      "outputs": []
    },
    {
      "cell_type": "code",
      "metadata": {
        "colab": {
          "base_uri": "https://localhost:8080/"
        },
        "id": "60tyPwcnvy83",
        "outputId": "02e701ee-ff88-41b8-d1b9-8dac45b62d47"
      },
      "source": [
        "# 5 Calculate IDF and generate a matrix\n",
        "idf_matrix = _create_idf_matrix(freq_matrix, count_doc_per_words, total_documents)\n",
        "idf_matrix"
      ],
      "execution_count": null,
      "outputs": [
        {
          "output_type": "execute_result",
          "data": {
            "text/plain": [
              "{'Act,— act in th': {'!': 0.22184874961635637,\n",
              "  ',': 0.13469857389745615,\n",
              "  'act': 0.8750612633917001,\n",
              "  'live': 0.8750612633917001,\n",
              "  'present': 1.1760912590556813,\n",
              "  '—': 1.1760912590556813},\n",
              " 'And the grave i': {',': 0.13469857389745615,\n",
              "  '.': 0.3979400086720376,\n",
              "  ';': 0.5740312677277188,\n",
              "  'art': 0.8750612633917001,\n",
              "  'dust': 1.1760912590556813,\n",
              "  'goal': 1.1760912590556813,\n",
              "  'grave': 0.8750612633917001,\n",
              "  'returnest': 1.1760912590556813,\n",
              "  'soul': 0.8750612633917001,\n",
              "  'spoken': 1.1760912590556813,\n",
              "  'thou': 1.1760912590556813,\n",
              "  'wa': 1.1760912590556813},\n",
              " 'Art is long, an': {',': 0.13469857389745615,\n",
              "  '.': 0.3979400086720376,\n",
              "  'art': 0.8750612633917001,\n",
              "  'beat': 1.1760912590556813,\n",
              "  'brave': 1.1760912590556813,\n",
              "  'drum': 1.1760912590556813,\n",
              "  'fleet': 1.1760912590556813,\n",
              "  'funer': 1.1760912590556813,\n",
              "  'grave': 0.8750612633917001,\n",
              "  'heart': 0.5740312677277188,\n",
              "  'like': 0.8750612633917001,\n",
              "  'long': 1.1760912590556813,\n",
              "  'march': 1.1760912590556813,\n",
              "  'muffl': 1.1760912590556813,\n",
              "  'still': 0.8750612633917001,\n",
              "  'stout': 1.1760912590556813,\n",
              "  'though': 1.1760912590556813,\n",
              "  'time': 0.8750612633917001},\n",
              " 'Be a hero in th': {'!': 0.22184874961635637,\n",
              "  'hero': 1.1760912590556813,\n",
              "  'strife': 1.1760912590556813},\n",
              " 'For the soul is': {',': 0.13469857389745615,\n",
              "  '.': 0.3979400086720376,\n",
              "  'dead': 0.8750612633917001,\n",
              "  'seem': 1.1760912590556813,\n",
              "  'slumber': 1.1760912590556813,\n",
              "  'soul': 0.8750612633917001,\n",
              "  'thing': 1.1760912590556813},\n",
              " 'Heart within, a': {'!': 0.22184874961635637,\n",
              "  ',': 0.13469857389745615,\n",
              "  'erhead': 1.1760912590556813,\n",
              "  'god': 1.1760912590556813,\n",
              "  'heart': 0.5740312677277188,\n",
              "  'within': 1.1760912590556813,\n",
              "  '’': 0.5740312677277188},\n",
              " 'In the world’s ': {'!': 0.22184874961635637,\n",
              "  ',': 0.13469857389745615,\n",
              "  'battl': 1.1760912590556813,\n",
              "  'bivouac': 1.1760912590556813,\n",
              "  'broad': 1.1760912590556813,\n",
              "  'cattl': 1.1760912590556813,\n",
              "  'driven': 1.1760912590556813,\n",
              "  'dumb': 1.1760912590556813,\n",
              "  'field': 1.1760912590556813,\n",
              "  'life': 0.47712125471966244,\n",
              "  'like': 0.8750612633917001,\n",
              "  'world': 1.1760912590556813,\n",
              "  '’': 0.5740312677277188},\n",
              " 'Let the dead Pa': {'!': 0.22184874961635637,\n",
              "  'buri': 1.1760912590556813,\n",
              "  'dead': 0.8750612633917001,\n",
              "  'let': 0.8750612633917001,\n",
              "  'past': 1.1760912590556813},\n",
              " 'Let us, then, b': {',': 0.13469857389745615,\n",
              "  '.': 0.3979400086720376,\n",
              "  ';': 0.5740312677277188,\n",
              "  'achiev': 1.1760912590556813,\n",
              "  'ani': 1.1760912590556813,\n",
              "  'fate': 1.1760912590556813,\n",
              "  'heart': 0.5740312677277188,\n",
              "  'labor': 1.1760912590556813,\n",
              "  'learn': 1.1760912590556813,\n",
              "  'let': 0.8750612633917001,\n",
              "  'pursu': 1.1760912590556813,\n",
              "  'still': 0.8750612633917001,\n",
              "  'us': 0.6989700043360189,\n",
              "  'wait': 1.1760912590556813},\n",
              " 'Life is earnest': {'!': 0.22184874961635637,\n",
              "  'earnest': 1.1760912590556813,\n",
              "  'life': 0.47712125471966244},\n",
              " 'Life is real!': {'!': 0.22184874961635637,\n",
              "  'life': 0.47712125471966244,\n",
              "  'real': 1.1760912590556813},\n",
              " 'Lives of great ': {',': 0.13469857389745615,\n",
              "  '.': 0.3979400086720376,\n",
              "  ';': 0.5740312677277188,\n",
              "  'anoth': 1.1760912590556813,\n",
              "  'behind': 1.1760912590556813,\n",
              "  'brother': 1.1760912590556813,\n",
              "  'depart': 1.1760912590556813,\n",
              "  'er': 0.8750612633917001,\n",
              "  'footprint': 1.1760912590556813,\n",
              "  'forlorn': 1.1760912590556813,\n",
              "  'great': 1.1760912590556813,\n",
              "  'heart': 0.5740312677277188,\n",
              "  'leav': 1.1760912590556813,\n",
              "  'life': 0.47712125471966244,\n",
              "  'live': 0.8750612633917001,\n",
              "  'main': 1.1760912590556813,\n",
              "  'make': 1.1760912590556813,\n",
              "  'men': 1.1760912590556813,\n",
              "  'perhap': 1.1760912590556813,\n",
              "  'remind': 1.1760912590556813,\n",
              "  'sail': 1.1760912590556813,\n",
              "  'sand': 1.1760912590556813,\n",
              "  'see': 1.1760912590556813,\n",
              "  'shall': 1.1760912590556813,\n",
              "  'shipwreck': 1.1760912590556813,\n",
              "  'solemn': 1.1760912590556813,\n",
              "  'sublim': 1.1760912590556813,\n",
              "  'take': 1.1760912590556813,\n",
              "  'time': 0.8750612633917001,\n",
              "  'us': 0.6989700043360189,\n",
              "  '’': 0.5740312677277188},\n",
              " 'Not enjoyment, ': {',': 0.13469857389745615,\n",
              "  '.': 0.3979400086720376,\n",
              "  ';': 0.5740312677277188,\n",
              "  'act': 0.8750612633917001,\n",
              "  'destin': 1.1760912590556813,\n",
              "  'end': 1.1760912590556813,\n",
              "  'enjoy': 1.1760912590556813,\n",
              "  'farther': 1.1760912590556813,\n",
              "  'find': 1.1760912590556813,\n",
              "  'sorrow': 1.1760912590556813,\n",
              "  'to-day': 1.1760912590556813,\n",
              "  'to-morrow': 1.1760912590556813,\n",
              "  'us': 0.6989700043360189,\n",
              "  'way': 1.1760912590556813},\n",
              " 'Tell me not, in': {'!': 0.22184874961635637,\n",
              "  ',': 0.13469857389745615,\n",
              "  'dream': 1.1760912590556813,\n",
              "  'empti': 1.1760912590556813,\n",
              "  'life': 0.47712125471966244,\n",
              "  'mourn': 1.1760912590556813,\n",
              "  'number': 1.1760912590556813,\n",
              "  'tell': 1.1760912590556813},\n",
              " 'Trust no Future': {'!': 0.22184874961635637,\n",
              "  ',': 0.13469857389745615,\n",
              "  'er': 0.8750612633917001,\n",
              "  'futur': 1.1760912590556813,\n",
              "  'howe': 1.1760912590556813,\n",
              "  'pleasant': 1.1760912590556813,\n",
              "  'trust': 1.1760912590556813,\n",
              "  '’': 0.5740312677277188}}"
            ]
          },
          "metadata": {
            "tags": []
          },
          "execution_count": 12
        }
      ]
    },
    {
      "cell_type": "markdown",
      "metadata": {
        "id": "m19DeI-sv1Ml"
      },
      "source": [
        "# **6. Calculate TF-IDF and generate a matrix**\n",
        "Now we have both the matrix and the next step is very easy. TF-IDF algorithm is made of 2 algorithms multiplied together. In simple terms, we are multiplying the values from both the matrix and generating new matrix."
      ]
    },
    {
      "cell_type": "code",
      "metadata": {
        "id": "zkPsfhTLv9Rg"
      },
      "source": [
        "def _create_tf_idf_matrix(tf_matrix, idf_matrix):\n",
        "    tf_idf_matrix = {}\n",
        "\n",
        "    for (sent1, f_table1), (sent2, f_table2) in zip(tf_matrix.items(), idf_matrix.items()):\n",
        "\n",
        "        tf_idf_table = {}\n",
        "\n",
        "        for (word1, value1), (word2, value2) in zip(f_table1.items(),\n",
        "                                                    f_table2.items()):  # here, keys are the same in both the table\n",
        "            tf_idf_table[word1] = float(value1 * value2)\n",
        "\n",
        "        tf_idf_matrix[sent1] = tf_idf_table\n",
        "\n",
        "    return tf_idf_matrix"
      ],
      "execution_count": null,
      "outputs": []
    },
    {
      "cell_type": "code",
      "metadata": {
        "colab": {
          "base_uri": "https://localhost:8080/"
        },
        "id": "6l-saVXZv_lv",
        "outputId": "15a23e0b-1b08-4f3e-ac49-581c68d1148d"
      },
      "source": [
        "# 6 Calculate TF-IDF and generate a matrix\n",
        "tf_idf_matrix = _create_tf_idf_matrix(tf_matrix, idf_matrix)\n",
        "print(tf_idf_matrix)"
      ],
      "execution_count": null,
      "outputs": [
        {
          "output_type": "stream",
          "text": [
            "{'Tell me not, in': {'tell': 0.14701140738196017, ',': 0.03367464347436404, 'mourn': 0.14701140738196017, 'number': 0.14701140738196017, 'life': 0.059640156839957804, 'empti': 0.14701140738196017, 'dream': 0.14701140738196017, '!': 0.027731093702044546}, 'For the soul is': {'soul': 0.1250087519131, 'dead': 0.1250087519131, 'slumber': 0.16801303700795447, ',': 0.019242653413922308, 'thing': 0.16801303700795447, 'seem': 0.16801303700795447, '.': 0.05684857266743394}, 'Life is real!': {'life': 0.15904041823988746, 'real': 0.3920304196852271, '!': 0.07394958320545211}, 'Life is earnest': {'life': 0.15904041823988746, 'earnest': 0.3920304196852271, '!': 0.07394958320545211}, 'And the grave i': {'grave': 0.07292177194930834, 'goal': 0.09800760492130678, ';': 0.0478359389773099, 'dust': 0.19601520984261356, 'thou': 0.09800760492130678, 'art': 0.07292177194930834, ',': 0.02244976231624269, 'returnest': 0.09800760492130678, 'wa': 0.09800760492130678, 'spoken': 0.09800760492130678, 'soul': 0.07292177194930834, '.': 0.033161667389336465}, 'Not enjoyment, ': {'enjoy': 0.08400651850397724, ',': 0.02886398012088346, 'sorrow': 0.08400651850397724, 'destin': 0.08400651850397724, 'end': 0.08400651850397724, 'way': 0.08400651850397724, ';': 0.04100223340912277, 'act': 0.06250437595655, 'to-morrow': 0.08400651850397724, 'find': 0.08400651850397724, 'us': 0.0499264288811442, 'farther': 0.08400651850397724, 'to-day': 0.08400651850397724, '.': 0.02842428633371697}, 'Art is long, an': {'art': 0.048614514632872224, 'long': 0.06533840328087118, ',': 0.04489952463248538, 'time': 0.048614514632872224, 'fleet': 0.06533840328087118, 'heart': 0.031890625984873265, 'though': 0.06533840328087118, 'stout': 0.06533840328087118, 'brave': 0.06533840328087118, 'still': 0.048614514632872224, 'like': 0.048614514632872224, 'muffl': 0.06533840328087118, 'drum': 0.06533840328087118, 'beat': 0.06533840328087118, 'funer': 0.06533840328087118, 'march': 0.06533840328087118, 'grave': 0.048614514632872224, '.': 0.022107778259557644}, 'In the world’s ': {'world': 0.09046855838889857, '’': 0.044156251363670684, 'broad': 0.09046855838889857, 'field': 0.09046855838889857, 'battl': 0.09046855838889857, ',': 0.031084286284028345, 'bivouac': 0.09046855838889857, 'life': 0.03670163497843557, 'like': 0.06731240487628462, 'dumb': 0.09046855838889857, 'driven': 0.09046855838889857, 'cattl': 0.09046855838889857, '!': 0.017065288432027415}, 'Be a hero in th': {'hero': 0.3920304196852271, 'strife': 0.3920304196852271, '!': 0.07394958320545211}, 'Trust no Future': {'trust': 0.14701140738196017, 'futur': 0.14701140738196017, ',': 0.01683732173718202, 'howe': 0.14701140738196017, '’': 0.07175390846596486, 'er': 0.10938265792396251, 'pleasant': 0.14701140738196017, '!': 0.027731093702044546}, 'Let the dead Pa': {'let': 0.17501225267834003, 'dead': 0.35002450535668006, 'past': 0.2352182518111363, 'buri': 0.2352182518111363, '!': 0.04436974992327128}, 'Act,— act in th': {'act': 0.29168708779723335, ',': 0.02244976231624269, '—': 0.19601520984261356, 'live': 0.14584354389861667, 'present': 0.19601520984261356, '!': 0.036974791602726056}, 'Heart within, a': {'heart': 0.08200446681824554, 'within': 0.16801303700795447, ',': 0.019242653413922308, 'god': 0.16801303700795447, '’': 0.08200446681824554, 'erhead': 0.16801303700795447, '!': 0.03169267851662234}, 'Lives of great ': {'live': 0.05645556538010968, 'great': 0.03793842771147359, 'men': 0.03793842771147359, 'remind': 0.03793842771147359, 'us': 0.04509483898942057, 'make': 0.03793842771147359, 'sublim': 0.03793842771147359, ',': 0.03476092229611771, 'depart': 0.03793842771147359, 'leav': 0.03793842771147359, 'behind': 0.03793842771147359, 'footprint': 0.07587685542294718, 'sand': 0.03793842771147359, 'time': 0.02822778269005484, ';': 0.01851713766863609, 'perhap': 0.03793842771147359, 'anoth': 0.03793842771147359, 'sail': 0.03793842771147359, '’': 0.03703427533727218, 'er': 0.02822778269005484, 'life': 0.015391008216763305, 'solemn': 0.03793842771147359, 'main': 0.03793842771147359, 'forlorn': 0.03793842771147359, 'shipwreck': 0.03793842771147359, 'brother': 0.03793842771147359, 'see': 0.03793842771147359, 'shall': 0.03793842771147359, 'take': 0.03793842771147359, 'heart': 0.01851713766863609, '.': 0.012836774473291535}, 'Let us, then, b': {'let': 0.06250437595655, 'us': 0.0499264288811442, ',': 0.04810663353480577, 'heart': 0.04100223340912277, 'ani': 0.08400651850397724, 'fate': 0.08400651850397724, ';': 0.04100223340912277, 'still': 0.1250087519131, 'achiev': 0.08400651850397724, 'pursu': 0.08400651850397724, 'learn': 0.08400651850397724, 'labor': 0.08400651850397724, 'wait': 0.08400651850397724, '.': 0.02842428633371697}}\n"
          ],
          "name": "stdout"
        }
      ]
    },
    {
      "cell_type": "markdown",
      "metadata": {
        "id": "tWrMF609wBl_"
      },
      "source": [
        "# **7. Score the sentences**\n",
        "Scoring a sentence is differs with different algorithms. Here, we are using Tf-IDF score of words in a sentence to give weight to the paragraph."
      ]
    },
    {
      "cell_type": "code",
      "metadata": {
        "id": "2eiks57nwDhT"
      },
      "source": [
        "def _score_sentences(tf_idf_matrix) -> dict:\n",
        "    \"\"\"\n",
        "    score a sentence by its word's TF\n",
        "    Basic algorithm: adding the TF frequency of every non-stop word in a sentence divided by total no of words in a sentence.\n",
        "    :rtype: dict\n",
        "    \"\"\"\n",
        "\n",
        "    sentenceValue = {}\n",
        "\n",
        "    for sent, f_table in tf_idf_matrix.items():\n",
        "        total_score_per_sentence = 0\n",
        "\n",
        "        count_words_in_sentence = len(f_table)\n",
        "        for word, score in f_table.items():\n",
        "            total_score_per_sentence += score\n",
        "\n",
        "        sentenceValue[sent] = total_score_per_sentence / count_words_in_sentence\n",
        "\n",
        "    return sentenceValue"
      ],
      "execution_count": null,
      "outputs": []
    },
    {
      "cell_type": "code",
      "metadata": {
        "colab": {
          "base_uri": "https://localhost:8080/"
        },
        "id": "IIcOYjrRwNmw",
        "outputId": "ffd868c9-54ce-4e61-f3a9-3a084ca9d28a"
      },
      "source": [
        "# 7 Important Algorithm: score the sentences\n",
        "sentence_scores = _score_sentences(tf_idf_matrix)\n",
        "print(sentence_scores)"
      ],
      "execution_count": null,
      "outputs": [
        {
          "output_type": "stream",
          "text": [
            "{'Tell me not, in': 0.1070128663657709, 'For the soul is': 0.11859254870448852, 'Life is real!': 0.20834014037685555, 'Life is earnest': 0.20834014037685555, 'And the grave i': 0.0840221599149968, 'Not enjoyment, ': 0.06905571223122946, 'Art is long, an': 0.05529747415833272, 'In the world’s ': 0.07077448715735654, 'Be a hero in th': 0.28600347419196875, 'Trust no Future': 0.10171882641962432, 'Let the dead Pa': 0.20796860231611283, 'Act,— act in th': 0.14816426755000764, 'Heart within, a': 0.10271191094155703, 'Lives of great ': 0.0364422140342831, 'Let us, then, b': 0.07028718378324308}\n"
          ],
          "name": "stdout"
        }
      ]
    },
    {
      "cell_type": "markdown",
      "metadata": {
        "id": "tjES-eJRwSUG"
      },
      "source": [
        "# **8. Find the threshold**\n",
        "Similar to any summarization algorithms, there can be different ways to calculate a threshold value. We’re calculating the average sentence score."
      ]
    },
    {
      "cell_type": "code",
      "metadata": {
        "id": "J3Tv2nTOwSxE"
      },
      "source": [
        "def _find_average_score(sentenceValue) -> int:\n",
        "    \"\"\"\n",
        "    Find the average score from the sentence value dictionary\n",
        "    :rtype: int\n",
        "    \"\"\"\n",
        "    sumValues = 0\n",
        "    for entry in sentenceValue:\n",
        "        sumValues += sentenceValue[entry]\n",
        "\n",
        "    # Average value of a sentence from original summary_text\n",
        "    average = (sumValues / len(sentenceValue))\n",
        "\n",
        "    return average"
      ],
      "execution_count": null,
      "outputs": []
    },
    {
      "cell_type": "code",
      "metadata": {
        "colab": {
          "base_uri": "https://localhost:8080/"
        },
        "id": "wge81SyawZS_",
        "outputId": "114782b7-105d-43af-d9ad-6e95f292ad87"
      },
      "source": [
        "# 8 Find the threshold\n",
        "threshold = _find_average_score(sentence_scores)\n",
        "print(threshold)"
      ],
      "execution_count": null,
      "outputs": [
        {
          "output_type": "stream",
          "text": [
            "0.1249821339015122\n"
          ],
          "name": "stdout"
        }
      ]
    },
    {
      "cell_type": "markdown",
      "metadata": {
        "id": "74eAhZCzwgf7"
      },
      "source": [
        "# **9. Generate the summary**\n",
        "Algorithm: Select a sentence for a summarization if the sentence score is more than the average score."
      ]
    },
    {
      "cell_type": "code",
      "metadata": {
        "id": "KDR7YBt8wch_"
      },
      "source": [
        "def _generate_summary(sentences, sentenceValue, threshold):\n",
        "    sentence_count = 0\n",
        "    summary = ''\n",
        "\n",
        "    for sentence in sentences:\n",
        "        if sentence[:15] in sentenceValue and sentenceValue[sentence[:15]] >= (threshold):\n",
        "            summary += \" \" + sentence\n",
        "            sentence_count += 1\n",
        "\n",
        "    return summary"
      ],
      "execution_count": null,
      "outputs": []
    },
    {
      "cell_type": "code",
      "metadata": {
        "colab": {
          "base_uri": "https://localhost:8080/"
        },
        "id": "9ZBp5YH1wnjC",
        "outputId": "7d2a8f53-3c30-4024-d5d4-8885bc22457d"
      },
      "source": [
        "# 9 Important Algorithm: Generate the summary\n",
        "summary = _generate_summary(sentences, sentence_scores, 1.3 * threshold)\n",
        "print(summary)"
      ],
      "execution_count": null,
      "outputs": [
        {
          "output_type": "stream",
          "text": [
            " Life is real! Life is earnest! Be a hero in the strife! Let the dead Past bury its dead!\n"
          ],
          "name": "stdout"
        }
      ]
    },
    {
      "cell_type": "code",
      "metadata": {
        "colab": {
          "base_uri": "https://localhost:8080/",
          "height": 35
        },
        "id": "WmkaLX8iwpf2",
        "outputId": "379d7e27-7187-47f7-818c-a9ab1c5048d5"
      },
      "source": [
        "import math\n",
        "\n",
        "from nltk import sent_tokenize, word_tokenize, PorterStemmer\n",
        "from nltk.corpus import stopwords    \n",
        "    \n",
        "'''\n",
        "We already have a sentence tokenizer, so we just need \n",
        "to run the sent_tokenize() method to create the array of sentences.\n",
        "'''\n",
        "# 1 Sentence Tokenize\n",
        "sentences = sent_tokenize(text)\n",
        "total_documents = len(sentences)\n",
        "#print(sentences)\n",
        "\n",
        "# 2 Create the Frequency matrix of the words in each sentence.\n",
        "freq_matrix = _create_frequency_matrix(sentences)\n",
        "#print(freq_matrix)\n",
        "\n",
        "'''\n",
        "Term frequency (TF) is how often a word appears in a document, divided by how many words are there in a document.\n",
        "'''\n",
        "# 3 Calculate TermFrequency and generate a matrix\n",
        "tf_matrix = _create_tf_matrix(freq_matrix)\n",
        "#print(tf_matrix)\n",
        "\n",
        "# 4 creating table for documents per words\n",
        "count_doc_per_words = _create_documents_per_words(freq_matrix)\n",
        "#print(count_doc_per_words)\n",
        "\n",
        "'''\n",
        "Inverse document frequency (IDF) is how unique or rare a word is.\n",
        "'''\n",
        "# 5 Calculate IDF and generate a matrix\n",
        "idf_matrix = _create_idf_matrix(freq_matrix, count_doc_per_words, total_documents)\n",
        "#print(idf_matrix)\n",
        "\n",
        "# 6 Calculate TF-IDF and generate a matrix\n",
        "tf_idf_matrix = _create_tf_idf_matrix(tf_matrix, idf_matrix)\n",
        "#print(tf_idf_matrix)\n",
        "\n",
        "# 7 Important Algorithm: score the sentences\n",
        "sentence_scores = _score_sentences(tf_idf_matrix)\n",
        "#print(sentence_scores)\n",
        "\n",
        "# 8 Find the threshold\n",
        "threshold = _find_average_score(sentence_scores)\n",
        "#print(threshold)\n",
        "\n",
        "# 9 Important Algorithm: Generate the summary\n",
        "summary = _generate_summary(sentences, sentence_scores, 1.3 * threshold)\n",
        "summary"
      ],
      "execution_count": null,
      "outputs": [
        {
          "output_type": "execute_result",
          "data": {
            "application/vnd.google.colaboratory.intrinsic+json": {
              "type": "string"
            },
            "text/plain": [
              "' Life is real! Life is earnest! Be a hero in the strife! Let the dead Past bury its dead!'"
            ]
          },
          "metadata": {
            "tags": []
          },
          "execution_count": 21
        }
      ]
    },
    {
      "cell_type": "markdown",
      "metadata": {
        "id": "kVpcIU55rtBT"
      },
      "source": [
        "# Insight\n",
        "I have taken the text from the poem \"Psalm of Life\" and tried to summarize it using NLTK library. The following is the summary obtained. These are lines from the poem itself, that were ranked relevant by the code:\n",
        "\n",
        " Life is real! Life is earnest! Be a hero in the strife! Let the dead Past bury its dead!"
      ]
    },
    {
      "cell_type": "markdown",
      "metadata": {
        "id": "rtKMG0SGX265"
      },
      "source": [
        "# Extractive text summarization.\n",
        "Extractive summarization methods work just like that. It takes the text, ranks all the sentences according to the understanding and relevance of the text, and presents you with the most important sentences. \n",
        "\n",
        "This method does not create new words or phrases, it just takes the already existing words and phrases and presents only that."
      ]
    },
    {
      "cell_type": "code",
      "metadata": {
        "id": "f9B_vT0TwtWi"
      },
      "source": [
        ""
      ],
      "execution_count": null,
      "outputs": []
    }
  ]
}
