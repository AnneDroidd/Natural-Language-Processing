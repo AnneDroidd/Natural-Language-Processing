{
  "nbformat": 4,
  "nbformat_minor": 0,
  "metadata": {
    "colab": {
      "name": "Shubhasmita_Roy_nlp_2.ipynb",
      "provenance": [],
      "collapsed_sections": [],
      "mount_file_id": "1DB76xtRxOnkHa23__BkMFWNmP2dp3F2M",
      "authorship_tag": "ABX9TyPi5pyArL+u95DktImgrbdJ"
    },
    "kernelspec": {
      "name": "python3",
      "display_name": "Python 3"
    },
    "language_info": {
      "name": "python"
    },
    "accelerator": "GPU",
    "widgets": {
      "application/vnd.jupyter.widget-state+json": {
        "86dea8c5e7fb40ed836e0d719cb35ae9": {
          "model_module": "@jupyter-widgets/controls",
          "model_name": "HBoxModel",
          "model_module_version": "1.5.0",
          "state": {
            "_view_name": "HBoxView",
            "_dom_classes": [],
            "_model_name": "HBoxModel",
            "_view_module": "@jupyter-widgets/controls",
            "_model_module_version": "1.5.0",
            "_view_count": null,
            "_view_module_version": "1.5.0",
            "box_style": "",
            "layout": "IPY_MODEL_5066506c3fd34837ade19f21b2313929",
            "_model_module": "@jupyter-widgets/controls",
            "children": [
              "IPY_MODEL_fde44e710fe7489ba258e14a06e36717",
              "IPY_MODEL_ee7508c01dd441b3af4736400be0ceb6"
            ]
          }
        },
        "5066506c3fd34837ade19f21b2313929": {
          "model_module": "@jupyter-widgets/base",
          "model_name": "LayoutModel",
          "model_module_version": "1.2.0",
          "state": {
            "_view_name": "LayoutView",
            "grid_template_rows": null,
            "right": null,
            "justify_content": null,
            "_view_module": "@jupyter-widgets/base",
            "overflow": null,
            "_model_module_version": "1.2.0",
            "_view_count": null,
            "flex_flow": null,
            "width": null,
            "min_width": null,
            "border": null,
            "align_items": null,
            "bottom": null,
            "_model_module": "@jupyter-widgets/base",
            "top": null,
            "grid_column": null,
            "overflow_y": null,
            "overflow_x": null,
            "grid_auto_flow": null,
            "grid_area": null,
            "grid_template_columns": null,
            "flex": null,
            "_model_name": "LayoutModel",
            "justify_items": null,
            "grid_row": null,
            "max_height": null,
            "align_content": null,
            "visibility": null,
            "align_self": null,
            "height": null,
            "min_height": null,
            "padding": null,
            "grid_auto_rows": null,
            "grid_gap": null,
            "max_width": null,
            "order": null,
            "_view_module_version": "1.2.0",
            "grid_template_areas": null,
            "object_position": null,
            "object_fit": null,
            "grid_auto_columns": null,
            "margin": null,
            "display": null,
            "left": null
          }
        },
        "fde44e710fe7489ba258e14a06e36717": {
          "model_module": "@jupyter-widgets/controls",
          "model_name": "FloatProgressModel",
          "model_module_version": "1.5.0",
          "state": {
            "_view_name": "ProgressView",
            "style": "IPY_MODEL_af4f240d8b2b467a883e4194257eba34",
            "_dom_classes": [],
            "description": "Downloading: 100%",
            "_model_name": "FloatProgressModel",
            "bar_style": "success",
            "max": 28,
            "_view_module": "@jupyter-widgets/controls",
            "_model_module_version": "1.5.0",
            "value": 28,
            "_view_count": null,
            "_view_module_version": "1.5.0",
            "orientation": "horizontal",
            "min": 0,
            "description_tooltip": null,
            "_model_module": "@jupyter-widgets/controls",
            "layout": "IPY_MODEL_155f3ac3361e4c0e86fe08fd5e53cf99"
          }
        },
        "ee7508c01dd441b3af4736400be0ceb6": {
          "model_module": "@jupyter-widgets/controls",
          "model_name": "HTMLModel",
          "model_module_version": "1.5.0",
          "state": {
            "_view_name": "HTMLView",
            "style": "IPY_MODEL_ff0b6e4000f54791818a93ca83b10cea",
            "_dom_classes": [],
            "description": "",
            "_model_name": "HTMLModel",
            "placeholder": "​",
            "_view_module": "@jupyter-widgets/controls",
            "_model_module_version": "1.5.0",
            "value": " 28.0/28.0 [01:02&lt;00:00, 2.22s/B]",
            "_view_count": null,
            "_view_module_version": "1.5.0",
            "description_tooltip": null,
            "_model_module": "@jupyter-widgets/controls",
            "layout": "IPY_MODEL_1699820619b04b8c9479373aa8cf0607"
          }
        },
        "af4f240d8b2b467a883e4194257eba34": {
          "model_module": "@jupyter-widgets/controls",
          "model_name": "ProgressStyleModel",
          "model_module_version": "1.5.0",
          "state": {
            "_view_name": "StyleView",
            "_model_name": "ProgressStyleModel",
            "description_width": "initial",
            "_view_module": "@jupyter-widgets/base",
            "_model_module_version": "1.5.0",
            "_view_count": null,
            "_view_module_version": "1.2.0",
            "bar_color": null,
            "_model_module": "@jupyter-widgets/controls"
          }
        },
        "155f3ac3361e4c0e86fe08fd5e53cf99": {
          "model_module": "@jupyter-widgets/base",
          "model_name": "LayoutModel",
          "model_module_version": "1.2.0",
          "state": {
            "_view_name": "LayoutView",
            "grid_template_rows": null,
            "right": null,
            "justify_content": null,
            "_view_module": "@jupyter-widgets/base",
            "overflow": null,
            "_model_module_version": "1.2.0",
            "_view_count": null,
            "flex_flow": null,
            "width": null,
            "min_width": null,
            "border": null,
            "align_items": null,
            "bottom": null,
            "_model_module": "@jupyter-widgets/base",
            "top": null,
            "grid_column": null,
            "overflow_y": null,
            "overflow_x": null,
            "grid_auto_flow": null,
            "grid_area": null,
            "grid_template_columns": null,
            "flex": null,
            "_model_name": "LayoutModel",
            "justify_items": null,
            "grid_row": null,
            "max_height": null,
            "align_content": null,
            "visibility": null,
            "align_self": null,
            "height": null,
            "min_height": null,
            "padding": null,
            "grid_auto_rows": null,
            "grid_gap": null,
            "max_width": null,
            "order": null,
            "_view_module_version": "1.2.0",
            "grid_template_areas": null,
            "object_position": null,
            "object_fit": null,
            "grid_auto_columns": null,
            "margin": null,
            "display": null,
            "left": null
          }
        },
        "ff0b6e4000f54791818a93ca83b10cea": {
          "model_module": "@jupyter-widgets/controls",
          "model_name": "DescriptionStyleModel",
          "model_module_version": "1.5.0",
          "state": {
            "_view_name": "StyleView",
            "_model_name": "DescriptionStyleModel",
            "description_width": "",
            "_view_module": "@jupyter-widgets/base",
            "_model_module_version": "1.5.0",
            "_view_count": null,
            "_view_module_version": "1.2.0",
            "_model_module": "@jupyter-widgets/controls"
          }
        },
        "1699820619b04b8c9479373aa8cf0607": {
          "model_module": "@jupyter-widgets/base",
          "model_name": "LayoutModel",
          "model_module_version": "1.2.0",
          "state": {
            "_view_name": "LayoutView",
            "grid_template_rows": null,
            "right": null,
            "justify_content": null,
            "_view_module": "@jupyter-widgets/base",
            "overflow": null,
            "_model_module_version": "1.2.0",
            "_view_count": null,
            "flex_flow": null,
            "width": null,
            "min_width": null,
            "border": null,
            "align_items": null,
            "bottom": null,
            "_model_module": "@jupyter-widgets/base",
            "top": null,
            "grid_column": null,
            "overflow_y": null,
            "overflow_x": null,
            "grid_auto_flow": null,
            "grid_area": null,
            "grid_template_columns": null,
            "flex": null,
            "_model_name": "LayoutModel",
            "justify_items": null,
            "grid_row": null,
            "max_height": null,
            "align_content": null,
            "visibility": null,
            "align_self": null,
            "height": null,
            "min_height": null,
            "padding": null,
            "grid_auto_rows": null,
            "grid_gap": null,
            "max_width": null,
            "order": null,
            "_view_module_version": "1.2.0",
            "grid_template_areas": null,
            "object_position": null,
            "object_fit": null,
            "grid_auto_columns": null,
            "margin": null,
            "display": null,
            "left": null
          }
        },
        "046b8631bfd540f9bd6e339d590a56c6": {
          "model_module": "@jupyter-widgets/controls",
          "model_name": "HBoxModel",
          "model_module_version": "1.5.0",
          "state": {
            "_view_name": "HBoxView",
            "_dom_classes": [],
            "_model_name": "HBoxModel",
            "_view_module": "@jupyter-widgets/controls",
            "_model_module_version": "1.5.0",
            "_view_count": null,
            "_view_module_version": "1.5.0",
            "box_style": "",
            "layout": "IPY_MODEL_a4a60e7301374e36bfaf1ccb885a4f0f",
            "_model_module": "@jupyter-widgets/controls",
            "children": [
              "IPY_MODEL_324e90fc91884715960af5ac89d20eb6",
              "IPY_MODEL_6c925f05b8df430eac9e3b5a4c275ab8"
            ]
          }
        },
        "a4a60e7301374e36bfaf1ccb885a4f0f": {
          "model_module": "@jupyter-widgets/base",
          "model_name": "LayoutModel",
          "model_module_version": "1.2.0",
          "state": {
            "_view_name": "LayoutView",
            "grid_template_rows": null,
            "right": null,
            "justify_content": null,
            "_view_module": "@jupyter-widgets/base",
            "overflow": null,
            "_model_module_version": "1.2.0",
            "_view_count": null,
            "flex_flow": null,
            "width": null,
            "min_width": null,
            "border": null,
            "align_items": null,
            "bottom": null,
            "_model_module": "@jupyter-widgets/base",
            "top": null,
            "grid_column": null,
            "overflow_y": null,
            "overflow_x": null,
            "grid_auto_flow": null,
            "grid_area": null,
            "grid_template_columns": null,
            "flex": null,
            "_model_name": "LayoutModel",
            "justify_items": null,
            "grid_row": null,
            "max_height": null,
            "align_content": null,
            "visibility": null,
            "align_self": null,
            "height": null,
            "min_height": null,
            "padding": null,
            "grid_auto_rows": null,
            "grid_gap": null,
            "max_width": null,
            "order": null,
            "_view_module_version": "1.2.0",
            "grid_template_areas": null,
            "object_position": null,
            "object_fit": null,
            "grid_auto_columns": null,
            "margin": null,
            "display": null,
            "left": null
          }
        },
        "324e90fc91884715960af5ac89d20eb6": {
          "model_module": "@jupyter-widgets/controls",
          "model_name": "FloatProgressModel",
          "model_module_version": "1.5.0",
          "state": {
            "_view_name": "ProgressView",
            "style": "IPY_MODEL_0838c6f29d1941afb6e003777ad6ad80",
            "_dom_classes": [],
            "description": "Downloading: 100%",
            "_model_name": "FloatProgressModel",
            "bar_style": "success",
            "max": 570,
            "_view_module": "@jupyter-widgets/controls",
            "_model_module_version": "1.5.0",
            "value": 570,
            "_view_count": null,
            "_view_module_version": "1.5.0",
            "orientation": "horizontal",
            "min": 0,
            "description_tooltip": null,
            "_model_module": "@jupyter-widgets/controls",
            "layout": "IPY_MODEL_fac1e025be8443a59e876710ae681033"
          }
        },
        "6c925f05b8df430eac9e3b5a4c275ab8": {
          "model_module": "@jupyter-widgets/controls",
          "model_name": "HTMLModel",
          "model_module_version": "1.5.0",
          "state": {
            "_view_name": "HTMLView",
            "style": "IPY_MODEL_600c66c460d046c69234d4445c2d2f89",
            "_dom_classes": [],
            "description": "",
            "_model_name": "HTMLModel",
            "placeholder": "​",
            "_view_module": "@jupyter-widgets/controls",
            "_model_module_version": "1.5.0",
            "value": " 570/570 [00:00&lt;00:00, 577B/s]",
            "_view_count": null,
            "_view_module_version": "1.5.0",
            "description_tooltip": null,
            "_model_module": "@jupyter-widgets/controls",
            "layout": "IPY_MODEL_f74a04ed61a549a6b838798aae371e6e"
          }
        },
        "0838c6f29d1941afb6e003777ad6ad80": {
          "model_module": "@jupyter-widgets/controls",
          "model_name": "ProgressStyleModel",
          "model_module_version": "1.5.0",
          "state": {
            "_view_name": "StyleView",
            "_model_name": "ProgressStyleModel",
            "description_width": "initial",
            "_view_module": "@jupyter-widgets/base",
            "_model_module_version": "1.5.0",
            "_view_count": null,
            "_view_module_version": "1.2.0",
            "bar_color": null,
            "_model_module": "@jupyter-widgets/controls"
          }
        },
        "fac1e025be8443a59e876710ae681033": {
          "model_module": "@jupyter-widgets/base",
          "model_name": "LayoutModel",
          "model_module_version": "1.2.0",
          "state": {
            "_view_name": "LayoutView",
            "grid_template_rows": null,
            "right": null,
            "justify_content": null,
            "_view_module": "@jupyter-widgets/base",
            "overflow": null,
            "_model_module_version": "1.2.0",
            "_view_count": null,
            "flex_flow": null,
            "width": null,
            "min_width": null,
            "border": null,
            "align_items": null,
            "bottom": null,
            "_model_module": "@jupyter-widgets/base",
            "top": null,
            "grid_column": null,
            "overflow_y": null,
            "overflow_x": null,
            "grid_auto_flow": null,
            "grid_area": null,
            "grid_template_columns": null,
            "flex": null,
            "_model_name": "LayoutModel",
            "justify_items": null,
            "grid_row": null,
            "max_height": null,
            "align_content": null,
            "visibility": null,
            "align_self": null,
            "height": null,
            "min_height": null,
            "padding": null,
            "grid_auto_rows": null,
            "grid_gap": null,
            "max_width": null,
            "order": null,
            "_view_module_version": "1.2.0",
            "grid_template_areas": null,
            "object_position": null,
            "object_fit": null,
            "grid_auto_columns": null,
            "margin": null,
            "display": null,
            "left": null
          }
        },
        "600c66c460d046c69234d4445c2d2f89": {
          "model_module": "@jupyter-widgets/controls",
          "model_name": "DescriptionStyleModel",
          "model_module_version": "1.5.0",
          "state": {
            "_view_name": "StyleView",
            "_model_name": "DescriptionStyleModel",
            "description_width": "",
            "_view_module": "@jupyter-widgets/base",
            "_model_module_version": "1.5.0",
            "_view_count": null,
            "_view_module_version": "1.2.0",
            "_model_module": "@jupyter-widgets/controls"
          }
        },
        "f74a04ed61a549a6b838798aae371e6e": {
          "model_module": "@jupyter-widgets/base",
          "model_name": "LayoutModel",
          "model_module_version": "1.2.0",
          "state": {
            "_view_name": "LayoutView",
            "grid_template_rows": null,
            "right": null,
            "justify_content": null,
            "_view_module": "@jupyter-widgets/base",
            "overflow": null,
            "_model_module_version": "1.2.0",
            "_view_count": null,
            "flex_flow": null,
            "width": null,
            "min_width": null,
            "border": null,
            "align_items": null,
            "bottom": null,
            "_model_module": "@jupyter-widgets/base",
            "top": null,
            "grid_column": null,
            "overflow_y": null,
            "overflow_x": null,
            "grid_auto_flow": null,
            "grid_area": null,
            "grid_template_columns": null,
            "flex": null,
            "_model_name": "LayoutModel",
            "justify_items": null,
            "grid_row": null,
            "max_height": null,
            "align_content": null,
            "visibility": null,
            "align_self": null,
            "height": null,
            "min_height": null,
            "padding": null,
            "grid_auto_rows": null,
            "grid_gap": null,
            "max_width": null,
            "order": null,
            "_view_module_version": "1.2.0",
            "grid_template_areas": null,
            "object_position": null,
            "object_fit": null,
            "grid_auto_columns": null,
            "margin": null,
            "display": null,
            "left": null
          }
        },
        "d1ae41003e2f4c78ab9743e44e1f8d66": {
          "model_module": "@jupyter-widgets/controls",
          "model_name": "HBoxModel",
          "model_module_version": "1.5.0",
          "state": {
            "_view_name": "HBoxView",
            "_dom_classes": [],
            "_model_name": "HBoxModel",
            "_view_module": "@jupyter-widgets/controls",
            "_model_module_version": "1.5.0",
            "_view_count": null,
            "_view_module_version": "1.5.0",
            "box_style": "",
            "layout": "IPY_MODEL_7f343879c2ec49e3a7ffa3bd7f718624",
            "_model_module": "@jupyter-widgets/controls",
            "children": [
              "IPY_MODEL_4761259682f546ac969463bac8325ea0",
              "IPY_MODEL_6896445a40be4fbea0c91d5641fdea7c"
            ]
          }
        },
        "7f343879c2ec49e3a7ffa3bd7f718624": {
          "model_module": "@jupyter-widgets/base",
          "model_name": "LayoutModel",
          "model_module_version": "1.2.0",
          "state": {
            "_view_name": "LayoutView",
            "grid_template_rows": null,
            "right": null,
            "justify_content": null,
            "_view_module": "@jupyter-widgets/base",
            "overflow": null,
            "_model_module_version": "1.2.0",
            "_view_count": null,
            "flex_flow": null,
            "width": null,
            "min_width": null,
            "border": null,
            "align_items": null,
            "bottom": null,
            "_model_module": "@jupyter-widgets/base",
            "top": null,
            "grid_column": null,
            "overflow_y": null,
            "overflow_x": null,
            "grid_auto_flow": null,
            "grid_area": null,
            "grid_template_columns": null,
            "flex": null,
            "_model_name": "LayoutModel",
            "justify_items": null,
            "grid_row": null,
            "max_height": null,
            "align_content": null,
            "visibility": null,
            "align_self": null,
            "height": null,
            "min_height": null,
            "padding": null,
            "grid_auto_rows": null,
            "grid_gap": null,
            "max_width": null,
            "order": null,
            "_view_module_version": "1.2.0",
            "grid_template_areas": null,
            "object_position": null,
            "object_fit": null,
            "grid_auto_columns": null,
            "margin": null,
            "display": null,
            "left": null
          }
        },
        "4761259682f546ac969463bac8325ea0": {
          "model_module": "@jupyter-widgets/controls",
          "model_name": "FloatProgressModel",
          "model_module_version": "1.5.0",
          "state": {
            "_view_name": "ProgressView",
            "style": "IPY_MODEL_00c655b8e8fd480883dd4e9e2927ea5d",
            "_dom_classes": [],
            "description": "Downloading: 100%",
            "_model_name": "FloatProgressModel",
            "bar_style": "success",
            "max": 231508,
            "_view_module": "@jupyter-widgets/controls",
            "_model_module_version": "1.5.0",
            "value": 231508,
            "_view_count": null,
            "_view_module_version": "1.5.0",
            "orientation": "horizontal",
            "min": 0,
            "description_tooltip": null,
            "_model_module": "@jupyter-widgets/controls",
            "layout": "IPY_MODEL_c81b3b8992414125aa078a4a6db9d414"
          }
        },
        "6896445a40be4fbea0c91d5641fdea7c": {
          "model_module": "@jupyter-widgets/controls",
          "model_name": "HTMLModel",
          "model_module_version": "1.5.0",
          "state": {
            "_view_name": "HTMLView",
            "style": "IPY_MODEL_aaed956c075142f4b3706471ca27d563",
            "_dom_classes": [],
            "description": "",
            "_model_name": "HTMLModel",
            "placeholder": "​",
            "_view_module": "@jupyter-widgets/controls",
            "_model_module_version": "1.5.0",
            "value": " 232k/232k [01:00&lt;00:00, 3.82kB/s]",
            "_view_count": null,
            "_view_module_version": "1.5.0",
            "description_tooltip": null,
            "_model_module": "@jupyter-widgets/controls",
            "layout": "IPY_MODEL_efefc22964e24a5dbf7db87fe02b84c8"
          }
        },
        "00c655b8e8fd480883dd4e9e2927ea5d": {
          "model_module": "@jupyter-widgets/controls",
          "model_name": "ProgressStyleModel",
          "model_module_version": "1.5.0",
          "state": {
            "_view_name": "StyleView",
            "_model_name": "ProgressStyleModel",
            "description_width": "initial",
            "_view_module": "@jupyter-widgets/base",
            "_model_module_version": "1.5.0",
            "_view_count": null,
            "_view_module_version": "1.2.0",
            "bar_color": null,
            "_model_module": "@jupyter-widgets/controls"
          }
        },
        "c81b3b8992414125aa078a4a6db9d414": {
          "model_module": "@jupyter-widgets/base",
          "model_name": "LayoutModel",
          "model_module_version": "1.2.0",
          "state": {
            "_view_name": "LayoutView",
            "grid_template_rows": null,
            "right": null,
            "justify_content": null,
            "_view_module": "@jupyter-widgets/base",
            "overflow": null,
            "_model_module_version": "1.2.0",
            "_view_count": null,
            "flex_flow": null,
            "width": null,
            "min_width": null,
            "border": null,
            "align_items": null,
            "bottom": null,
            "_model_module": "@jupyter-widgets/base",
            "top": null,
            "grid_column": null,
            "overflow_y": null,
            "overflow_x": null,
            "grid_auto_flow": null,
            "grid_area": null,
            "grid_template_columns": null,
            "flex": null,
            "_model_name": "LayoutModel",
            "justify_items": null,
            "grid_row": null,
            "max_height": null,
            "align_content": null,
            "visibility": null,
            "align_self": null,
            "height": null,
            "min_height": null,
            "padding": null,
            "grid_auto_rows": null,
            "grid_gap": null,
            "max_width": null,
            "order": null,
            "_view_module_version": "1.2.0",
            "grid_template_areas": null,
            "object_position": null,
            "object_fit": null,
            "grid_auto_columns": null,
            "margin": null,
            "display": null,
            "left": null
          }
        },
        "aaed956c075142f4b3706471ca27d563": {
          "model_module": "@jupyter-widgets/controls",
          "model_name": "DescriptionStyleModel",
          "model_module_version": "1.5.0",
          "state": {
            "_view_name": "StyleView",
            "_model_name": "DescriptionStyleModel",
            "description_width": "",
            "_view_module": "@jupyter-widgets/base",
            "_model_module_version": "1.5.0",
            "_view_count": null,
            "_view_module_version": "1.2.0",
            "_model_module": "@jupyter-widgets/controls"
          }
        },
        "efefc22964e24a5dbf7db87fe02b84c8": {
          "model_module": "@jupyter-widgets/base",
          "model_name": "LayoutModel",
          "model_module_version": "1.2.0",
          "state": {
            "_view_name": "LayoutView",
            "grid_template_rows": null,
            "right": null,
            "justify_content": null,
            "_view_module": "@jupyter-widgets/base",
            "overflow": null,
            "_model_module_version": "1.2.0",
            "_view_count": null,
            "flex_flow": null,
            "width": null,
            "min_width": null,
            "border": null,
            "align_items": null,
            "bottom": null,
            "_model_module": "@jupyter-widgets/base",
            "top": null,
            "grid_column": null,
            "overflow_y": null,
            "overflow_x": null,
            "grid_auto_flow": null,
            "grid_area": null,
            "grid_template_columns": null,
            "flex": null,
            "_model_name": "LayoutModel",
            "justify_items": null,
            "grid_row": null,
            "max_height": null,
            "align_content": null,
            "visibility": null,
            "align_self": null,
            "height": null,
            "min_height": null,
            "padding": null,
            "grid_auto_rows": null,
            "grid_gap": null,
            "max_width": null,
            "order": null,
            "_view_module_version": "1.2.0",
            "grid_template_areas": null,
            "object_position": null,
            "object_fit": null,
            "grid_auto_columns": null,
            "margin": null,
            "display": null,
            "left": null
          }
        },
        "7a70a14f0e3349208910bf1061ef6d1c": {
          "model_module": "@jupyter-widgets/controls",
          "model_name": "HBoxModel",
          "model_module_version": "1.5.0",
          "state": {
            "_view_name": "HBoxView",
            "_dom_classes": [],
            "_model_name": "HBoxModel",
            "_view_module": "@jupyter-widgets/controls",
            "_model_module_version": "1.5.0",
            "_view_count": null,
            "_view_module_version": "1.5.0",
            "box_style": "",
            "layout": "IPY_MODEL_3ccdaaf2353f4d71ac2f9d137d322b40",
            "_model_module": "@jupyter-widgets/controls",
            "children": [
              "IPY_MODEL_065bd9a57d9a42a1a8fb9064886f7323",
              "IPY_MODEL_e090616fc3ed40ff8eba06cb5bdeffb6"
            ]
          }
        },
        "3ccdaaf2353f4d71ac2f9d137d322b40": {
          "model_module": "@jupyter-widgets/base",
          "model_name": "LayoutModel",
          "model_module_version": "1.2.0",
          "state": {
            "_view_name": "LayoutView",
            "grid_template_rows": null,
            "right": null,
            "justify_content": null,
            "_view_module": "@jupyter-widgets/base",
            "overflow": null,
            "_model_module_version": "1.2.0",
            "_view_count": null,
            "flex_flow": null,
            "width": null,
            "min_width": null,
            "border": null,
            "align_items": null,
            "bottom": null,
            "_model_module": "@jupyter-widgets/base",
            "top": null,
            "grid_column": null,
            "overflow_y": null,
            "overflow_x": null,
            "grid_auto_flow": null,
            "grid_area": null,
            "grid_template_columns": null,
            "flex": null,
            "_model_name": "LayoutModel",
            "justify_items": null,
            "grid_row": null,
            "max_height": null,
            "align_content": null,
            "visibility": null,
            "align_self": null,
            "height": null,
            "min_height": null,
            "padding": null,
            "grid_auto_rows": null,
            "grid_gap": null,
            "max_width": null,
            "order": null,
            "_view_module_version": "1.2.0",
            "grid_template_areas": null,
            "object_position": null,
            "object_fit": null,
            "grid_auto_columns": null,
            "margin": null,
            "display": null,
            "left": null
          }
        },
        "065bd9a57d9a42a1a8fb9064886f7323": {
          "model_module": "@jupyter-widgets/controls",
          "model_name": "FloatProgressModel",
          "model_module_version": "1.5.0",
          "state": {
            "_view_name": "ProgressView",
            "style": "IPY_MODEL_658030827abb45c7b4c8b80a468bd833",
            "_dom_classes": [],
            "description": "Downloading: 100%",
            "_model_name": "FloatProgressModel",
            "bar_style": "success",
            "max": 466062,
            "_view_module": "@jupyter-widgets/controls",
            "_model_module_version": "1.5.0",
            "value": 466062,
            "_view_count": null,
            "_view_module_version": "1.5.0",
            "orientation": "horizontal",
            "min": 0,
            "description_tooltip": null,
            "_model_module": "@jupyter-widgets/controls",
            "layout": "IPY_MODEL_6782b1c94fea46fc9186eac0aadb1630"
          }
        },
        "e090616fc3ed40ff8eba06cb5bdeffb6": {
          "model_module": "@jupyter-widgets/controls",
          "model_name": "HTMLModel",
          "model_module_version": "1.5.0",
          "state": {
            "_view_name": "HTMLView",
            "style": "IPY_MODEL_2548a7e0fb784400b72add4f30347b4c",
            "_dom_classes": [],
            "description": "",
            "_model_name": "HTMLModel",
            "placeholder": "​",
            "_view_module": "@jupyter-widgets/controls",
            "_model_module_version": "1.5.0",
            "value": " 466k/466k [00:57&lt;00:00, 8.17kB/s]",
            "_view_count": null,
            "_view_module_version": "1.5.0",
            "description_tooltip": null,
            "_model_module": "@jupyter-widgets/controls",
            "layout": "IPY_MODEL_d2d4d0b280c247d585e70fef37560256"
          }
        },
        "658030827abb45c7b4c8b80a468bd833": {
          "model_module": "@jupyter-widgets/controls",
          "model_name": "ProgressStyleModel",
          "model_module_version": "1.5.0",
          "state": {
            "_view_name": "StyleView",
            "_model_name": "ProgressStyleModel",
            "description_width": "initial",
            "_view_module": "@jupyter-widgets/base",
            "_model_module_version": "1.5.0",
            "_view_count": null,
            "_view_module_version": "1.2.0",
            "bar_color": null,
            "_model_module": "@jupyter-widgets/controls"
          }
        },
        "6782b1c94fea46fc9186eac0aadb1630": {
          "model_module": "@jupyter-widgets/base",
          "model_name": "LayoutModel",
          "model_module_version": "1.2.0",
          "state": {
            "_view_name": "LayoutView",
            "grid_template_rows": null,
            "right": null,
            "justify_content": null,
            "_view_module": "@jupyter-widgets/base",
            "overflow": null,
            "_model_module_version": "1.2.0",
            "_view_count": null,
            "flex_flow": null,
            "width": null,
            "min_width": null,
            "border": null,
            "align_items": null,
            "bottom": null,
            "_model_module": "@jupyter-widgets/base",
            "top": null,
            "grid_column": null,
            "overflow_y": null,
            "overflow_x": null,
            "grid_auto_flow": null,
            "grid_area": null,
            "grid_template_columns": null,
            "flex": null,
            "_model_name": "LayoutModel",
            "justify_items": null,
            "grid_row": null,
            "max_height": null,
            "align_content": null,
            "visibility": null,
            "align_self": null,
            "height": null,
            "min_height": null,
            "padding": null,
            "grid_auto_rows": null,
            "grid_gap": null,
            "max_width": null,
            "order": null,
            "_view_module_version": "1.2.0",
            "grid_template_areas": null,
            "object_position": null,
            "object_fit": null,
            "grid_auto_columns": null,
            "margin": null,
            "display": null,
            "left": null
          }
        },
        "2548a7e0fb784400b72add4f30347b4c": {
          "model_module": "@jupyter-widgets/controls",
          "model_name": "DescriptionStyleModel",
          "model_module_version": "1.5.0",
          "state": {
            "_view_name": "StyleView",
            "_model_name": "DescriptionStyleModel",
            "description_width": "",
            "_view_module": "@jupyter-widgets/base",
            "_model_module_version": "1.5.0",
            "_view_count": null,
            "_view_module_version": "1.2.0",
            "_model_module": "@jupyter-widgets/controls"
          }
        },
        "d2d4d0b280c247d585e70fef37560256": {
          "model_module": "@jupyter-widgets/base",
          "model_name": "LayoutModel",
          "model_module_version": "1.2.0",
          "state": {
            "_view_name": "LayoutView",
            "grid_template_rows": null,
            "right": null,
            "justify_content": null,
            "_view_module": "@jupyter-widgets/base",
            "overflow": null,
            "_model_module_version": "1.2.0",
            "_view_count": null,
            "flex_flow": null,
            "width": null,
            "min_width": null,
            "border": null,
            "align_items": null,
            "bottom": null,
            "_model_module": "@jupyter-widgets/base",
            "top": null,
            "grid_column": null,
            "overflow_y": null,
            "overflow_x": null,
            "grid_auto_flow": null,
            "grid_area": null,
            "grid_template_columns": null,
            "flex": null,
            "_model_name": "LayoutModel",
            "justify_items": null,
            "grid_row": null,
            "max_height": null,
            "align_content": null,
            "visibility": null,
            "align_self": null,
            "height": null,
            "min_height": null,
            "padding": null,
            "grid_auto_rows": null,
            "grid_gap": null,
            "max_width": null,
            "order": null,
            "_view_module_version": "1.2.0",
            "grid_template_areas": null,
            "object_position": null,
            "object_fit": null,
            "grid_auto_columns": null,
            "margin": null,
            "display": null,
            "left": null
          }
        }
      }
    }
  },
  "cells": [
    {
      "cell_type": "markdown",
      "metadata": {
        "id": "R8q1rOD_jqhM"
      },
      "source": [
        "# Exp 2: Sentiment Analysis\n",
        "To analyze people’s sentiments and classify movie reviews"
      ]
    },
    {
      "cell_type": "markdown",
      "metadata": {
        "id": "qC5lOQzIkzaF"
      },
      "source": [
        "## **Trying with Multinomial Naive Bayes**"
      ]
    },
    {
      "cell_type": "code",
      "metadata": {
        "id": "86ccdUfAjHv1"
      },
      "source": [
        "# Importing libraries\n",
        "import pandas as pd\n",
        "import numpy as np"
      ],
      "execution_count": 14,
      "outputs": []
    },
    {
      "cell_type": "code",
      "metadata": {
        "colab": {
          "base_uri": "https://localhost:8080/"
        },
        "id": "n3xCCV4Ajurx",
        "outputId": "b3cc98b4-5c64-4ec6-9f60-ecc5a702899a"
      },
      "source": [
        "# Reading the data\n",
        "data = pd.read_csv('/content/drive/MyDrive/Colab Notebooks/train.tsv', sep='\\t') # tab separated file\n",
        "data.shape # data frame shape"
      ],
      "execution_count": 3,
      "outputs": [
        {
          "output_type": "execute_result",
          "data": {
            "text/plain": [
              "(156060, 4)"
            ]
          },
          "metadata": {
            "tags": []
          },
          "execution_count": 3
        }
      ]
    },
    {
      "cell_type": "code",
      "metadata": {
        "colab": {
          "base_uri": "https://localhost:8080/",
          "height": 204
        },
        "id": "-qtr4gr2kHkB",
        "outputId": "2185e6f5-feeb-48aa-929f-d638e2a483ad"
      },
      "source": [
        "data.head() #1st 5 records"
      ],
      "execution_count": 4,
      "outputs": [
        {
          "output_type": "execute_result",
          "data": {
            "text/html": [
              "<div>\n",
              "<style scoped>\n",
              "    .dataframe tbody tr th:only-of-type {\n",
              "        vertical-align: middle;\n",
              "    }\n",
              "\n",
              "    .dataframe tbody tr th {\n",
              "        vertical-align: top;\n",
              "    }\n",
              "\n",
              "    .dataframe thead th {\n",
              "        text-align: right;\n",
              "    }\n",
              "</style>\n",
              "<table border=\"1\" class=\"dataframe\">\n",
              "  <thead>\n",
              "    <tr style=\"text-align: right;\">\n",
              "      <th></th>\n",
              "      <th>PhraseId</th>\n",
              "      <th>SentenceId</th>\n",
              "      <th>Phrase</th>\n",
              "      <th>Sentiment</th>\n",
              "    </tr>\n",
              "  </thead>\n",
              "  <tbody>\n",
              "    <tr>\n",
              "      <th>0</th>\n",
              "      <td>1</td>\n",
              "      <td>1</td>\n",
              "      <td>A series of escapades demonstrating the adage ...</td>\n",
              "      <td>1</td>\n",
              "    </tr>\n",
              "    <tr>\n",
              "      <th>1</th>\n",
              "      <td>2</td>\n",
              "      <td>1</td>\n",
              "      <td>A series of escapades demonstrating the adage ...</td>\n",
              "      <td>2</td>\n",
              "    </tr>\n",
              "    <tr>\n",
              "      <th>2</th>\n",
              "      <td>3</td>\n",
              "      <td>1</td>\n",
              "      <td>A series</td>\n",
              "      <td>2</td>\n",
              "    </tr>\n",
              "    <tr>\n",
              "      <th>3</th>\n",
              "      <td>4</td>\n",
              "      <td>1</td>\n",
              "      <td>A</td>\n",
              "      <td>2</td>\n",
              "    </tr>\n",
              "    <tr>\n",
              "      <th>4</th>\n",
              "      <td>5</td>\n",
              "      <td>1</td>\n",
              "      <td>series</td>\n",
              "      <td>2</td>\n",
              "    </tr>\n",
              "  </tbody>\n",
              "</table>\n",
              "</div>"
            ],
            "text/plain": [
              "   PhraseId  ...  Sentiment\n",
              "0         1  ...          1\n",
              "1         2  ...          2\n",
              "2         3  ...          2\n",
              "3         4  ...          2\n",
              "4         5  ...          2\n",
              "\n",
              "[5 rows x 4 columns]"
            ]
          },
          "metadata": {
            "tags": []
          },
          "execution_count": 4
        }
      ]
    },
    {
      "cell_type": "code",
      "metadata": {
        "colab": {
          "base_uri": "https://localhost:8080/",
          "height": 279
        },
        "id": "C0WrRiMmkcmP",
        "outputId": "d05c14e7-eaf5-4072-f935-9aa348feb27c"
      },
      "source": [
        "import matplotlib.pyplot as plt\n",
        "Sentiment_count = data.groupby('Sentiment').count()\n",
        "plt.bar(Sentiment_count.index.values, Sentiment_count['Phrase'])\n",
        "plt.xlabel('Review Sentiments')\n",
        "plt.ylabel('Number of Review')\n",
        "plt.show()"
      ],
      "execution_count": 5,
      "outputs": [
        {
          "output_type": "display_data",
          "data": {
            "image/png": "[encoded data removed]",
            "text/plain": [
              "<Figure size 432x288 with 1 Axes>"
            ]
          },
          "metadata": {
            "tags": [],
            "needs_background": "light"
          }
        }
      ]
    },
    {
      "cell_type": "markdown",
      "metadata": {
        "id": "Tjo6tFyFkuR8"
      },
      "source": [
        "### Feature Generation using Bag of Words"
      ]
    },
    {
      "cell_type": "code",
      "metadata": {
        "id": "WokPT_XKketN"
      },
      "source": [
        "from sklearn.feature_extraction.text import CountVectorizer\n",
        "from nltk.tokenize import RegexpTokenizer\n",
        "token = RegexpTokenizer(r'[a-zA-Z0-9]+')\n",
        "#tokenizer to remove unwanted elements from out data like symbols and numbers"
      ],
      "execution_count": 6,
      "outputs": []
    },
    {
      "cell_type": "code",
      "metadata": {
        "colab": {
          "base_uri": "https://localhost:8080/"
        },
        "id": "JINoTWvbkxDj",
        "outputId": "be47ff07-ceed-4000-c242-2ebcfef2cbd3"
      },
      "source": [
        "token"
      ],
      "execution_count": 7,
      "outputs": [
        {
          "output_type": "execute_result",
          "data": {
            "text/plain": [
              "RegexpTokenizer(pattern='[a-zA-Z0-9]+', gaps=False, discard_empty=True, flags=<RegexFlag.UNICODE|DOTALL|MULTILINE: 56>)"
            ]
          },
          "metadata": {
            "tags": []
          },
          "execution_count": 7
        }
      ]
    },
    {
      "cell_type": "code",
      "metadata": {
        "colab": {
          "base_uri": "https://localhost:8080/"
        },
        "id": "7pxAvTQHkyi0",
        "outputId": "d8259352-6c39-4266-ef98-d0ae46cd5fa2"
      },
      "source": [
        "cv=CountVectorizer(lowercase=True, stop_words='english',ngram_range = (1,1),tokenizer = token.tokenize)\n",
        "cv"
      ],
      "execution_count": 8,
      "outputs": [
        {
          "output_type": "execute_result",
          "data": {
            "text/plain": [
              "CountVectorizer(analyzer='word', binary=False, decode_error='strict',\n",
              "                dtype=<class 'numpy.int64'>, encoding='utf-8', input='content',\n",
              "                lowercase=True, max_df=1.0, max_features=None, min_df=1,\n",
              "                ngram_range=(1, 1), preprocessor=None, stop_words='english',\n",
              "                strip_accents=None, token_pattern='(?u)\\\\b\\\\w\\\\w+\\\\b',\n",
              "                tokenizer=<bound method RegexpTokenizer.tokenize of RegexpTokenizer(pattern='[a-zA-Z0-9]+', gaps=False, discard_empty=True, flags=<RegexFlag.UNICODE|DOTALL|MULTILINE: 56>)>,\n",
              "                vocabulary=None)"
            ]
          },
          "metadata": {
            "tags": []
          },
          "execution_count": 8
        }
      ]
    },
    {
      "cell_type": "code",
      "metadata": {
        "id": "-ASjCevVk05n"
      },
      "source": [
        "text_counts= cv.fit_transform(data['Phrase'])"
      ],
      "execution_count": 9,
      "outputs": []
    },
    {
      "cell_type": "code",
      "metadata": {
        "colab": {
          "base_uri": "https://localhost:8080/"
        },
        "id": "CbiP_2PAk3Gw",
        "outputId": "a608401b-22b7-4624-a2f1-2d33e56f4f4e"
      },
      "source": [
        "print(text_counts)"
      ],
      "execution_count": 10,
      "outputs": [
        {
          "output_type": "stream",
          "text": [
            "  (0, 11671)\t1\n",
            "  (0, 4517)\t1\n",
            "  (0, 3444)\t1\n",
            "  (0, 294)\t1\n",
            "  (0, 5735)\t2\n",
            "  (0, 5751)\t1\n",
            "  (0, 5512)\t1\n",
            "  (0, 9065)\t1\n",
            "  (0, 593)\t1\n",
            "  (0, 584)\t1\n",
            "  (0, 12673)\t1\n",
            "  (1, 11671)\t1\n",
            "  (1, 4517)\t1\n",
            "  (1, 3444)\t1\n",
            "  (1, 294)\t1\n",
            "  (1, 5735)\t1\n",
            "  (1, 5751)\t1\n",
            "  (2, 11671)\t1\n",
            "  (4, 11671)\t1\n",
            "  (5, 4517)\t1\n",
            "  (5, 3444)\t1\n",
            "  (5, 294)\t1\n",
            "  (5, 5735)\t1\n",
            "  (5, 5751)\t1\n",
            "  (7, 4517)\t1\n",
            "  :\t:\n",
            "  (156050, 11305)\t1\n",
            "  (156050, 9054)\t1\n",
            "  (156051, 11305)\t1\n",
            "  (156051, 9054)\t1\n",
            "  (156052, 11305)\t1\n",
            "  (156053, 11281)\t1\n",
            "  (156053, 1281)\t1\n",
            "  (156053, 5252)\t1\n",
            "  (156053, 6156)\t1\n",
            "  (156053, 1006)\t1\n",
            "  (156053, 2271)\t1\n",
            "  (156054, 11281)\t1\n",
            "  (156054, 5252)\t1\n",
            "  (156054, 6156)\t1\n",
            "  (156054, 1006)\t1\n",
            "  (156054, 2271)\t1\n",
            "  (156055, 11281)\t1\n",
            "  (156055, 6156)\t1\n",
            "  (156056, 5252)\t1\n",
            "  (156056, 1006)\t1\n",
            "  (156056, 2271)\t1\n",
            "  (156057, 1006)\t1\n",
            "  (156057, 2271)\t1\n",
            "  (156058, 1006)\t1\n",
            "  (156059, 2271)\t1\n"
          ],
          "name": "stdout"
        }
      ]
    },
    {
      "cell_type": "markdown",
      "metadata": {
        "id": "URoi3h7Lk7Vm"
      },
      "source": [
        "### Split train and test set"
      ]
    },
    {
      "cell_type": "code",
      "metadata": {
        "id": "qXAF_kmMk4qy"
      },
      "source": [
        "from sklearn.model_selection import train_test_split\n",
        "X_train, X_test, y_train, y_test = train_test_split(\n",
        "text_counts, data['Sentiment'], test_size=0.2, random_state=1)"
      ],
      "execution_count": 11,
      "outputs": []
    },
    {
      "cell_type": "markdown",
      "metadata": {
        "id": "5tH6P6jjk_oD"
      },
      "source": [
        "### Model Building and Evaluation"
      ]
    },
    {
      "cell_type": "code",
      "metadata": {
        "colab": {
          "base_uri": "https://localhost:8080/"
        },
        "id": "_t0SFgB9k9aw",
        "outputId": "1fbf2b6d-d0a4-4cb4-c8c6-efbb0a679a2e"
      },
      "source": [
        "from sklearn.naive_bayes import MultinomialNB\n",
        "from sklearn import metrics\n",
        "# Model Generation Using Multinomial Naive Bayes\n",
        "clf = MultinomialNB().fit(X_train, y_train)\n",
        "predicted= clf.predict(X_test)\n",
        "print(\"MultinomialNB Accuracy:\",metrics.accuracy_score(y_test, predicted))"
      ],
      "execution_count": 12,
      "outputs": [
        {
          "output_type": "stream",
          "text": [
            "MultinomialNB Accuracy: 0.6069140074330386\n"
          ],
          "name": "stdout"
        }
      ]
    },
    {
      "cell_type": "markdown",
      "metadata": {
        "id": "TOPcXrb25No6"
      },
      "source": [
        "Accuracy is only 60%"
      ]
    },
    {
      "cell_type": "markdown",
      "metadata": {
        "id": "0jpJiW9pOAp0"
      },
      "source": [
        "### **Performance Evaluation Metrics**"
      ]
    },
    {
      "cell_type": "markdown",
      "metadata": {
        "id": "XpzLneSrO8wD"
      },
      "source": [
        "#### Confusion Matrix"
      ]
    },
    {
      "cell_type": "code",
      "metadata": {
        "colab": {
          "base_uri": "https://localhost:8080/",
          "height": 1000
        },
        "id": "Q8aRx-Z6ODbx",
        "outputId": "f86fb173-7a28-4d78-abbb-2c5acef14395"
      },
      "source": [
        "import matplotlib.pyplot as plt\n",
        "import pandas as pd\n",
        "from sklearn.metrics import plot_confusion_matrix\n",
        "classifier = MultinomialNB().fit(X_train, y_train)\n",
        "np.set_printoptions(precision=2)\n",
        "\n",
        "# Plot non-normalized confusion matrix\n",
        "titles_options = [(\"Confusion matrix, without normalization\", None),\n",
        "                  (\"Normalized confusion matrix\", 'true')]\n",
        "for title, normalize in titles_options:\n",
        "    disp = plot_confusion_matrix(classifier, X_test, y_test,\n",
        "                                 display_labels=Sentiment_count.index.values,\n",
        "                                 cmap=plt.cm.Reds,\n",
        "                                 normalize=normalize)\n",
        "    disp.ax_.set_title(title)\n",
        "   \n",
        "    print(title)\n",
        "    print(disp.confusion_matrix)\n",
        "    \n",
        "    plt.rcParams[\"figure.figsize\"] = (16,16)\n",
        "    plt.xticks(rotation='vertical')\n",
        "plt.show()"
      ],
      "execution_count": 21,
      "outputs": [
        {
          "output_type": "stream",
          "text": [
            "Confusion matrix, without normalization\n",
            "[[  398   650   322    41     8]\n",
            " [  367  2320  2498   304    23]\n",
            " [  141  1469 12422  1809   123]\n",
            " [    9   246  2566  3271   462]\n",
            " [    6    31   278   916   532]]\n",
            "Normalized confusion matrix\n",
            "[[0.28 0.46 0.23 0.03 0.01]\n",
            " [0.07 0.42 0.45 0.06 0.  ]\n",
            " [0.01 0.09 0.78 0.11 0.01]\n",
            " [0.   0.04 0.39 0.5  0.07]\n",
            " [0.   0.02 0.16 0.52 0.3 ]]\n"
          ],
          "name": "stdout"
        },
        {
          "output_type": "display_data",
          "data": {
            "image/png": "[encoded data removed]",
            "text/plain": [
              "<Figure size 1152x1152 with 2 Axes>"
            ]
          },
          "metadata": {
            "tags": [],
            "needs_background": "light"
          }
        },
        {
          "output_type": "display_data",
          "data": {
            "image/png": "[encoded data removed]",
            "text/plain": [
              "<Figure size 1152x1152 with 2 Axes>"
            ]
          },
          "metadata": {
            "tags": [],
            "needs_background": "light"
          }
        }
      ]
    },
    {
      "cell_type": "markdown",
      "metadata": {
        "id": "mIRkjxPRTti1"
      },
      "source": [
        "#### Precision - Recall"
      ]
    },
    {
      "cell_type": "code",
      "metadata": {
        "colab": {
          "base_uri": "https://localhost:8080/"
        },
        "id": "X9Z2ToK1UuJh",
        "outputId": "5d91e942-a5ab-4e0a-d3de-ea532d677307"
      },
      "source": [
        "# Copying values of Confusion matrics to calculate Recision and recall\n",
        "Calc = [[0.28, 0.46, 0.23, 0.03, 0.01],\n",
        " [0.07, 0.42, 0.45, 0.06, 0.0  ],\n",
        " [0.01, 0.09, 0.78, 0.11, 0.01],\n",
        " [0.0, 0.04, 0.39, 0.5,  0.07],\n",
        " [0.0, 0.02, 0.16, 0.52, 0.3 ]]\n",
        "\n",
        "precision = [[0 for i in range(5)] for j in range(5)] \n",
        "recall = [[0 for i in range(5)] for j in range(5)]\n",
        " \n",
        "for i in range(5):\n",
        "  precision[i] = round(Calc[i][i]/sum(Calc[i]),2)\n",
        "\n",
        "for i in range(5):\n",
        "  temp=0\n",
        "  for j in range(5):\n",
        "    temp+=Calc[j][i]\n",
        "  recall[i] = round(Calc[i][i]/temp,2)\n",
        "\n",
        "tabl = {0:[precision[0], recall[0]], 1:[precision[1], recall[1]], 2:[precision[2], recall[2]], 3:[precision[3], recall[3]], 4:[precision[4], recall[4]],}\n",
        "\n",
        "print(\"  Precision Recall\")\n",
        "tabl"
      ],
      "execution_count": 47,
      "outputs": [
        {
          "output_type": "stream",
          "text": [
            "  Precision Recall\n"
          ],
          "name": "stdout"
        },
        {
          "output_type": "execute_result",
          "data": {
            "text/plain": [
              "{0: [0.28, 0.78],\n",
              " 1: [0.42, 0.41],\n",
              " 2: [0.78, 0.39],\n",
              " 3: [0.5, 0.41],\n",
              " 4: [0.3, 0.77]}"
            ]
          },
          "metadata": {
            "tags": []
          },
          "execution_count": 47
        }
      ]
    },
    {
      "cell_type": "markdown",
      "metadata": {
        "id": "9OoaHkCTPBuE"
      },
      "source": [
        "#### F score"
      ]
    },
    {
      "cell_type": "code",
      "metadata": {
        "colab": {
          "base_uri": "https://localhost:8080/"
        },
        "id": "R66yhjWgPD4u",
        "outputId": "256dd085-bc27-45be-c2e8-515a7cb252f2"
      },
      "source": [
        "F_score = {}\n",
        "\n",
        "for key in range(5):\n",
        "  F_score[key] = round(2*precision[key]*recall[key]/(precision[key]+recall[key])*100,2)\n",
        "\n",
        "F_score"
      ],
      "execution_count": 50,
      "outputs": [
        {
          "output_type": "execute_result",
          "data": {
            "text/plain": [
              "{0: 41.21, 1: 41.49, 2: 52.0, 3: 45.05, 4: 43.18}"
            ]
          },
          "metadata": {
            "tags": []
          },
          "execution_count": 50
        }
      ]
    },
    {
      "cell_type": "markdown",
      "metadata": {
        "id": "PXik1janbyoF"
      },
      "source": [
        "## **Improved model - BERT model to analyse sentiments**"
      ]
    },
    {
      "cell_type": "code",
      "metadata": {
        "id": "bxaUjltMb3p1",
        "colab": {
          "base_uri": "https://localhost:8080/"
        },
        "outputId": "168da504-7783-4d41-fb82-7e0ff160a944"
      },
      "source": [
        "import random\n",
        "import gc\n",
        "\n",
        "from tqdm import tqdm\n",
        "import pandas as pd\n",
        "import numpy as np\n",
        "\n",
        "import torch\n",
        "import torch.nn as nn\n",
        "from torch.utils.data import DataLoader, Dataset, random_split\n",
        "from transformers import AutoModel, AutoTokenizer, AutoConfig, AdamW\n",
        "\n",
        "gc.collect()"
      ],
      "execution_count": null,
      "outputs": [
        {
          "output_type": "execute_result",
          "data": {
            "text/plain": [
              "0"
            ]
          },
          "metadata": {
            "tags": []
          },
          "execution_count": 5
        }
      ]
    },
    {
      "cell_type": "code",
      "metadata": {
        "id": "zwZzq1UDid6i"
      },
      "source": [
        "random.seed(42)\n",
        "torch.manual_seed(42)\n",
        "np.random.seed(42)"
      ],
      "execution_count": null,
      "outputs": []
    },
    {
      "cell_type": "code",
      "metadata": {
        "id": "vgwNGTk1ljLQ"
      },
      "source": [
        "device = torch.device('cuda' if torch.cuda.is_available() else 'cpu')"
      ],
      "execution_count": null,
      "outputs": []
    },
    {
      "cell_type": "code",
      "metadata": {
        "colab": {
          "base_uri": "https://localhost:8080/",
          "height": 425
        },
        "id": "xuQ8l_TQidt6",
        "outputId": "af5db79c-4d77-4480-a853-d8e2b9dce1d4"
      },
      "source": [
        "train_df = pd.read_csv('/content/drive/MyDrive/Colab Notebooks/train.tsv', sep='\\t')\n",
        "print(train_df.shape)\n",
        "print(train_df.info())\n",
        "train_df.head()"
      ],
      "execution_count": null,
      "outputs": [
        {
          "output_type": "stream",
          "text": [
            "(156060, 4)\n",
            "<class 'pandas.core.frame.DataFrame'>\n",
            "RangeIndex: 156060 entries, 0 to 156059\n",
            "Data columns (total 4 columns):\n",
            " #   Column      Non-Null Count   Dtype \n",
            "---  ------      --------------   ----- \n",
            " 0   PhraseId    156060 non-null  int64 \n",
            " 1   SentenceId  156060 non-null  int64 \n",
            " 2   Phrase      156060 non-null  object\n",
            " 3   Sentiment   156060 non-null  int64 \n",
            "dtypes: int64(3), object(1)\n",
            "memory usage: 4.8+ MB\n",
            "None\n"
          ],
          "name": "stdout"
        },
        {
          "output_type": "execute_result",
          "data": {
            "text/html": [
              "<div>\n",
              "<style scoped>\n",
              "    .dataframe tbody tr th:only-of-type {\n",
              "        vertical-align: middle;\n",
              "    }\n",
              "\n",
              "    .dataframe tbody tr th {\n",
              "        vertical-align: top;\n",
              "    }\n",
              "\n",
              "    .dataframe thead th {\n",
              "        text-align: right;\n",
              "    }\n",
              "</style>\n",
              "<table border=\"1\" class=\"dataframe\">\n",
              "  <thead>\n",
              "    <tr style=\"text-align: right;\">\n",
              "      <th></th>\n",
              "      <th>PhraseId</th>\n",
              "      <th>SentenceId</th>\n",
              "      <th>Phrase</th>\n",
              "      <th>Sentiment</th>\n",
              "    </tr>\n",
              "  </thead>\n",
              "  <tbody>\n",
              "    <tr>\n",
              "      <th>0</th>\n",
              "      <td>1</td>\n",
              "      <td>1</td>\n",
              "      <td>A series of escapades demonstrating the adage ...</td>\n",
              "      <td>1</td>\n",
              "    </tr>\n",
              "    <tr>\n",
              "      <th>1</th>\n",
              "      <td>2</td>\n",
              "      <td>1</td>\n",
              "      <td>A series of escapades demonstrating the adage ...</td>\n",
              "      <td>2</td>\n",
              "    </tr>\n",
              "    <tr>\n",
              "      <th>2</th>\n",
              "      <td>3</td>\n",
              "      <td>1</td>\n",
              "      <td>A series</td>\n",
              "      <td>2</td>\n",
              "    </tr>\n",
              "    <tr>\n",
              "      <th>3</th>\n",
              "      <td>4</td>\n",
              "      <td>1</td>\n",
              "      <td>A</td>\n",
              "      <td>2</td>\n",
              "    </tr>\n",
              "    <tr>\n",
              "      <th>4</th>\n",
              "      <td>5</td>\n",
              "      <td>1</td>\n",
              "      <td>series</td>\n",
              "      <td>2</td>\n",
              "    </tr>\n",
              "  </tbody>\n",
              "</table>\n",
              "</div>"
            ],
            "text/plain": [
              "   PhraseId  ...  Sentiment\n",
              "0         1  ...          1\n",
              "1         2  ...          2\n",
              "2         3  ...          2\n",
              "3         4  ...          2\n",
              "4         5  ...          2\n",
              "\n",
              "[5 rows x 4 columns]"
            ]
          },
          "metadata": {
            "tags": []
          },
          "execution_count": 7
        }
      ]
    },
    {
      "cell_type": "code",
      "metadata": {
        "colab": {
          "base_uri": "https://localhost:8080/",
          "height": 408
        },
        "id": "RNmODO3didXQ",
        "outputId": "f9d6da79-9aea-4703-a259-c72e505f0acd"
      },
      "source": [
        "test_df = pd.read_csv('/content/drive/MyDrive/Colab Notebooks/test.tsv', sep='\\t')\n",
        "print(test_df.shape)\n",
        "print(test_df.info())\n",
        "test_df.head()"
      ],
      "execution_count": null,
      "outputs": [
        {
          "output_type": "stream",
          "text": [
            "(66292, 3)\n",
            "<class 'pandas.core.frame.DataFrame'>\n",
            "RangeIndex: 66292 entries, 0 to 66291\n",
            "Data columns (total 3 columns):\n",
            " #   Column      Non-Null Count  Dtype \n",
            "---  ------      --------------  ----- \n",
            " 0   PhraseId    66292 non-null  int64 \n",
            " 1   SentenceId  66292 non-null  int64 \n",
            " 2   Phrase      66292 non-null  object\n",
            "dtypes: int64(2), object(1)\n",
            "memory usage: 1.5+ MB\n",
            "None\n"
          ],
          "name": "stdout"
        },
        {
          "output_type": "execute_result",
          "data": {
            "text/html": [
              "<div>\n",
              "<style scoped>\n",
              "    .dataframe tbody tr th:only-of-type {\n",
              "        vertical-align: middle;\n",
              "    }\n",
              "\n",
              "    .dataframe tbody tr th {\n",
              "        vertical-align: top;\n",
              "    }\n",
              "\n",
              "    .dataframe thead th {\n",
              "        text-align: right;\n",
              "    }\n",
              "</style>\n",
              "<table border=\"1\" class=\"dataframe\">\n",
              "  <thead>\n",
              "    <tr style=\"text-align: right;\">\n",
              "      <th></th>\n",
              "      <th>PhraseId</th>\n",
              "      <th>SentenceId</th>\n",
              "      <th>Phrase</th>\n",
              "    </tr>\n",
              "  </thead>\n",
              "  <tbody>\n",
              "    <tr>\n",
              "      <th>0</th>\n",
              "      <td>156061</td>\n",
              "      <td>8545</td>\n",
              "      <td>An intermittently pleasing but mostly routine ...</td>\n",
              "    </tr>\n",
              "    <tr>\n",
              "      <th>1</th>\n",
              "      <td>156062</td>\n",
              "      <td>8545</td>\n",
              "      <td>An intermittently pleasing but mostly routine ...</td>\n",
              "    </tr>\n",
              "    <tr>\n",
              "      <th>2</th>\n",
              "      <td>156063</td>\n",
              "      <td>8545</td>\n",
              "      <td>An</td>\n",
              "    </tr>\n",
              "    <tr>\n",
              "      <th>3</th>\n",
              "      <td>156064</td>\n",
              "      <td>8545</td>\n",
              "      <td>intermittently pleasing but mostly routine effort</td>\n",
              "    </tr>\n",
              "    <tr>\n",
              "      <th>4</th>\n",
              "      <td>156065</td>\n",
              "      <td>8545</td>\n",
              "      <td>intermittently pleasing but mostly routine</td>\n",
              "    </tr>\n",
              "  </tbody>\n",
              "</table>\n",
              "</div>"
            ],
            "text/plain": [
              "   PhraseId  SentenceId                                             Phrase\n",
              "0    156061        8545  An intermittently pleasing but mostly routine ...\n",
              "1    156062        8545  An intermittently pleasing but mostly routine ...\n",
              "2    156063        8545                                                 An\n",
              "3    156064        8545  intermittently pleasing but mostly routine effort\n",
              "4    156065        8545         intermittently pleasing but mostly routine"
            ]
          },
          "metadata": {
            "tags": []
          },
          "execution_count": 8
        }
      ]
    },
    {
      "cell_type": "markdown",
      "metadata": {
        "id": "YE2uq9r3kHoy"
      },
      "source": [
        "#### Text Processing"
      ]
    },
    {
      "cell_type": "code",
      "metadata": {
        "colab": {
          "base_uri": "https://localhost:8080/",
          "height": 213,
          "referenced_widgets": [
            "86dea8c5e7fb40ed836e0d719cb35ae9",
            "5066506c3fd34837ade19f21b2313929",
            "fde44e710fe7489ba258e14a06e36717",
            "ee7508c01dd441b3af4736400be0ceb6",
            "af4f240d8b2b467a883e4194257eba34",
            "155f3ac3361e4c0e86fe08fd5e53cf99",
            "ff0b6e4000f54791818a93ca83b10cea",
            "1699820619b04b8c9479373aa8cf0607",
            "046b8631bfd540f9bd6e339d590a56c6",
            "a4a60e7301374e36bfaf1ccb885a4f0f",
            "324e90fc91884715960af5ac89d20eb6",
            "6c925f05b8df430eac9e3b5a4c275ab8",
            "0838c6f29d1941afb6e003777ad6ad80",
            "fac1e025be8443a59e876710ae681033",
            "600c66c460d046c69234d4445c2d2f89",
            "f74a04ed61a549a6b838798aae371e6e",
            "d1ae41003e2f4c78ab9743e44e1f8d66",
            "7f343879c2ec49e3a7ffa3bd7f718624",
            "4761259682f546ac969463bac8325ea0",
            "6896445a40be4fbea0c91d5641fdea7c",
            "00c655b8e8fd480883dd4e9e2927ea5d",
            "c81b3b8992414125aa078a4a6db9d414",
            "aaed956c075142f4b3706471ca27d563",
            "efefc22964e24a5dbf7db87fe02b84c8",
            "7a70a14f0e3349208910bf1061ef6d1c",
            "3ccdaaf2353f4d71ac2f9d137d322b40",
            "065bd9a57d9a42a1a8fb9064886f7323",
            "e090616fc3ed40ff8eba06cb5bdeffb6",
            "658030827abb45c7b4c8b80a468bd833",
            "6782b1c94fea46fc9186eac0aadb1630",
            "2548a7e0fb784400b72add4f30347b4c",
            "d2d4d0b280c247d585e70fef37560256"
          ]
        },
        "id": "pGF2ORlvkDWS",
        "outputId": "de8fd239-9319-4b91-ff83-aa85a52926a4"
      },
      "source": [
        "tokenizer = AutoTokenizer.from_pretrained('bert-base-uncased', lower=True)"
      ],
      "execution_count": null,
      "outputs": [
        {
          "output_type": "display_data",
          "data": {
            "application/vnd.jupyter.widget-view+json": {
              "model_id": "86dea8c5e7fb40ed836e0d719cb35ae9",
              "version_minor": 0,
              "version_major": 2
            },
            "text/plain": [
              "HBox(children=(FloatProgress(value=0.0, description='Downloading', max=28.0, style=ProgressStyle(description_w…"
            ]
          },
          "metadata": {
            "tags": []
          }
        },
        {
          "output_type": "stream",
          "text": [
            "\n"
          ],
          "name": "stdout"
        },
        {
          "output_type": "display_data",
          "data": {
            "application/vnd.jupyter.widget-view+json": {
              "model_id": "046b8631bfd540f9bd6e339d590a56c6",
              "version_minor": 0,
              "version_major": 2
            },
            "text/plain": [
              "HBox(children=(FloatProgress(value=0.0, description='Downloading', max=570.0, style=ProgressStyle(description_…"
            ]
          },
          "metadata": {
            "tags": []
          }
        },
        {
          "output_type": "stream",
          "text": [
            "\n"
          ],
          "name": "stdout"
        },
        {
          "output_type": "display_data",
          "data": {
            "application/vnd.jupyter.widget-view+json": {
              "model_id": "d1ae41003e2f4c78ab9743e44e1f8d66",
              "version_minor": 0,
              "version_major": 2
            },
            "text/plain": [
              "HBox(children=(FloatProgress(value=0.0, description='Downloading', max=231508.0, style=ProgressStyle(descripti…"
            ]
          },
          "metadata": {
            "tags": []
          }
        },
        {
          "output_type": "stream",
          "text": [
            "\n"
          ],
          "name": "stdout"
        },
        {
          "output_type": "display_data",
          "data": {
            "application/vnd.jupyter.widget-view+json": {
              "model_id": "7a70a14f0e3349208910bf1061ef6d1c",
              "version_minor": 0,
              "version_major": 2
            },
            "text/plain": [
              "HBox(children=(FloatProgress(value=0.0, description='Downloading', max=466062.0, style=ProgressStyle(descripti…"
            ]
          },
          "metadata": {
            "tags": []
          }
        },
        {
          "output_type": "stream",
          "text": [
            "\n"
          ],
          "name": "stdout"
        }
      ]
    },
    {
      "cell_type": "code",
      "metadata": {
        "id": "qZQn7-ukkDS-"
      },
      "source": [
        "class MovieReviewsDataset(Dataset):\n",
        "    def __init__(self, df, max_len, test_only=False):\n",
        "        self.max_len = max_len\n",
        "        self.test_only = test_only\n",
        "        self.text = df['Phrase'].tolist()\n",
        "        if not self.test_only:\n",
        "            self.sentiments = df['Sentiment'].values\n",
        "            \n",
        "        self.encode = tokenizer.batch_encode_plus(\n",
        "            self.text,\n",
        "            padding='max_length',\n",
        "            max_length=self.max_len,\n",
        "            truncation=True,\n",
        "            return_attention_mask=True\n",
        "        )\n",
        "        \n",
        "    def __getitem__(self, i):\n",
        "        input_ids = torch.tensor(self.encode['input_ids'][i])\n",
        "        attention_mask = torch.tensor(self.encode['attention_mask'][i])\n",
        "        \n",
        "        if self.test_only:\n",
        "            return (input_ids, attention_mask)\n",
        "        else:\n",
        "            sentiments = self.sentiments[i]\n",
        "            return (input_ids, attention_mask, sentiments)\n",
        "    \n",
        "    def __len__(self):\n",
        "        return len(self.text)"
      ],
      "execution_count": null,
      "outputs": []
    },
    {
      "cell_type": "code",
      "metadata": {
        "id": "A5zAkAnkkDNk"
      },
      "source": [
        "max_len = 64\n",
        "train_dataset = MovieReviewsDataset(train_df, max_len)\n",
        "test_dataset = MovieReviewsDataset(test_df, max_len, test_only=True)\n",
        "\n",
        "lengths = [int(len(train_dataset) * 0.8), int(len(train_dataset) * 0.2)]\n",
        "train_dataset, valid_dataset = random_split(train_dataset, lengths=lengths, generator=torch.Generator().manual_seed(42))\n",
        "\n",
        "train_dataloader = DataLoader(train_dataset, batch_size=128, shuffle=True)\n",
        "val_dataloader = DataLoader(valid_dataset, batch_size=128)\n",
        "test_dataloader = DataLoader(test_dataset, batch_size=128)"
      ],
      "execution_count": null,
      "outputs": []
    },
    {
      "cell_type": "markdown",
      "metadata": {
        "id": "6ZoX0KhYkfHu"
      },
      "source": [
        "#### Model Creation"
      ]
    },
    {
      "cell_type": "code",
      "metadata": {
        "colab": {
          "base_uri": "https://localhost:8080/"
        },
        "id": "-b3ncLQdkDBD",
        "outputId": "7ee83636-2d4a-47d5-f74c-5a4f9ca25562"
      },
      "source": [
        "class Model(nn.Module):\n",
        "    def __init__(self):\n",
        "        super(Model, self).__init__()\n",
        "\n",
        "        bert_base_config = AutoConfig.from_pretrained('bert-base-uncased')\n",
        "        self.bert_base = AutoModel.from_pretrained('bert-base-uncased', config=bert_base_config)\n",
        "        self.classifier = nn.Linear(bert_base_config.hidden_size, 5)\n",
        "\n",
        "    def forward(self, input_ids, attention_mask):\n",
        "        bert_base_output = self.bert_base(input_ids=input_ids, attention_mask=attention_mask)\n",
        "        # get last hidden state\n",
        "        # bert_base_last_hidden_state = bert_base_output[0]\n",
        "        # or\n",
        "        # roberta_base_last_hidden_state = roberta_base_output.hidden_states[-1]\n",
        "\n",
        "        # pooler_output – Last layer hidden-state of the first token of the sequence \n",
        "        # (classification token) further processed by a Linear layer and a Tanh activation function\n",
        "        pooler_output = bert_base_output[1] # [batch_size, hidden] \n",
        "        out = self.classifier(pooler_output)\n",
        "        return out\n",
        "\n",
        "\n",
        "gc.collect()"
      ],
      "execution_count": null,
      "outputs": [
        {
          "output_type": "execute_result",
          "data": {
            "text/plain": [
              "88"
            ]
          },
          "metadata": {
            "tags": []
          },
          "execution_count": 12
        }
      ]
    },
    {
      "cell_type": "code",
      "metadata": {
        "colab": {
          "base_uri": "https://localhost:8080/"
        },
        "id": "m_RcKJ-qkiw0",
        "outputId": "7f7b22a3-7958-476d-c8a9-43d961f4bb53"
      },
      "source": [
        "model = Model()\n",
        "model.to(device)\n",
        "optimizer = AdamW(model.parameters(), lr=2e-5)\n",
        "criteron = nn.CrossEntropyLoss()\n",
        "gc.collect()"
      ],
      "execution_count": null,
      "outputs": [
        {
          "output_type": "stream",
          "text": [
            "Some weights of the model checkpoint at bert-base-uncased were not used when initializing BertModel: ['cls.seq_relationship.weight', 'cls.predictions.transform.LayerNorm.weight', 'cls.predictions.transform.LayerNorm.bias', 'cls.predictions.transform.dense.weight', 'cls.predictions.decoder.weight', 'cls.predictions.transform.dense.bias', 'cls.predictions.bias', 'cls.seq_relationship.bias']\n",
            "- This IS expected if you are initializing BertModel from the checkpoint of a model trained on another task or with another architecture (e.g. initializing a BertForSequenceClassification model from a BertForPreTraining model).\n",
            "- This IS NOT expected if you are initializing BertModel from the checkpoint of a model that you expect to be exactly identical (initializing a BertForSequenceClassification model from a BertForSequenceClassification model).\n"
          ],
          "name": "stderr"
        },
        {
          "output_type": "execute_result",
          "data": {
            "text/plain": [
              "376"
            ]
          },
          "metadata": {
            "tags": []
          },
          "execution_count": 17
        }
      ]
    },
    {
      "cell_type": "code",
      "metadata": {
        "colab": {
          "base_uri": "https://localhost:8080/"
        },
        "id": "LXl7q9oikilv",
        "outputId": "ca564615-b713-42f2-aec8-89ae6b8ad803"
      },
      "source": [
        "total_loss = []\n",
        "total_val_acc = []\n",
        "for epoch in range(3):\n",
        "    model.train()\n",
        "    epoch_loss = []\n",
        "    for input_ids, attention_mask, target in tqdm(train_dataloader):\n",
        "        input_ids = input_ids.to(device)\n",
        "        attention_mask = attention_mask.to(device)            \n",
        "        target = target.to(device)\n",
        "        \n",
        "        optimizer.zero_grad()\n",
        "        \n",
        "        y_pred = model(input_ids, attention_mask)\n",
        "        \n",
        "        loss = criteron(y_pred, target)\n",
        "        loss.backward()\n",
        "        optimizer.step()\n",
        "        \n",
        "        epoch_loss.append(loss.item())\n",
        "\n",
        "    input_ids = input_ids.to(torch.device('cpu'))\n",
        "    attention_mask = attention_mask.to(torch.device('cpu'))            \n",
        "    target = target.to(torch.device('cpu'))\n",
        "    gc.collect()\n",
        "\n",
        "    val_accs = []\n",
        "    model.eval()\n",
        "    for input_ids, attention_mask, target in tqdm(val_dataloader):\n",
        "        input_ids = input_ids.to(device)\n",
        "        attention_mask = attention_mask.to(device)        \n",
        "        y_pred = model(input_ids, attention_mask)\n",
        "        _, y_pred = torch.max(y_pred, -1)\n",
        "        acc = torch.mean((torch.tensor(y_pred.cpu() == target.cpu(), dtype=torch.float)))\n",
        "        val_accs.append(acc.cpu())\n",
        "      \n",
        "    el = sum(epoch_loss)/len(epoch_loss)\n",
        "    total_loss.append(el)\n",
        "    acc = np.array(val_accs).mean()\n",
        "    total_val_acc.append(acc)\n",
        "    print(\"Epoch:\", epoch+1, \"-- loss:\", el, \"-- acc:\", acc)\n",
        "    gc.collect()"
      ],
      "execution_count": null,
      "outputs": [
        {
          "output_type": "stream",
          "text": [
            "100%|██████████| 976/976 [21:33<00:00,  1.33s/it]\n",
            "  0%|          | 0/244 [00:00<?, ?it/s]/usr/local/lib/python3.7/dist-packages/ipykernel_launcher.py:33: UserWarning: To copy construct from a tensor, it is recommended to use sourceTensor.clone().detach() or sourceTensor.clone().detach().requires_grad_(True), rather than torch.tensor(sourceTensor).\n",
            "100%|██████████| 244/244 [02:01<00:00,  2.01it/s]\n",
            "  0%|          | 0/976 [00:00<?, ?it/s]"
          ],
          "name": "stderr"
        },
        {
          "output_type": "stream",
          "text": [
            "Epoch: 1 -- loss: 0.824890318952623 -- acc: 0.68689877\n"
          ],
          "name": "stdout"
        },
        {
          "output_type": "stream",
          "text": [
            "100%|██████████| 976/976 [21:42<00:00,  1.33s/it]\n",
            "100%|██████████| 244/244 [02:01<00:00,  2.01it/s]\n",
            "  0%|          | 0/976 [00:00<?, ?it/s]"
          ],
          "name": "stderr"
        },
        {
          "output_type": "stream",
          "text": [
            "Epoch: 2 -- loss: 0.6767268605285981 -- acc: 0.69326216\n"
          ],
          "name": "stdout"
        },
        {
          "output_type": "stream",
          "text": [
            " 49%|████▉     | 477/976 [10:36<11:05,  1.33s/it]"
          ],
          "name": "stderr"
        }
      ]
    },
    {
      "cell_type": "markdown",
      "metadata": {
        "id": "RWd6z4JD2vfJ"
      },
      "source": [
        "Improved Accuracy = 69.32%"
      ]
    },
    {
      "cell_type": "code",
      "metadata": {
        "id": "5CeZ9sYSlVMP"
      },
      "source": [
        ""
      ],
      "execution_count": null,
      "outputs": []
    },
    {
      "cell_type": "markdown",
      "metadata": {
        "id": "5PG8_itEeetq"
      },
      "source": [
        "## **Conclusion**\n",
        "\n",
        "Sentiment analysis is a type of data mining that measures the inclination of people’s opinions through natural language processing (NLP), computational linguistics and text analysis.\n",
        "We can use Sentiment Analysis to extract and analyze subjective information from the Web - mostly social media and similar sources. \n",
        "\n",
        "To evaluate performance we chose the following metrics:\n",
        "1. **Accuracy -** Accuracy is the measure of correct predictions made by our model. It is equal to the number of correct predictions made upon total number of predictions made by the model. **We achieved an accuracy of 60% using Multinomial Naive Bayes.** \n",
        "\n",
        "2. **Confusion Matrix-** Confusion matrix is a simple table having two dimensions: ‘actual’ and ‘predicted’, and for both the dimensions it has same sets of classes. **We have plotted Confusion matrix in 2 ways with and without Normalization. We can observe that sentiments labeled 2 were best predicted with the current model.**\n",
        "\n",
        "3. **Precision -** It is the ratio of true positive samples to all samples classified as positive. It is also known as Positive Predictive Value (PPV).\n",
        "\n",
        "4. **Recall -** It is the ratio of true positive samples to all samples that are actually positive. It is also called True Positive Rate (TPR) or sensitivity. **We found out precision and recall for each of the 5 classes and stored it in a dictionary to use it later for finding F score.**\n",
        "\n",
        "5. **F score -** It is a combination of precision and recall and that is why it is a popular performance metric. Like other metrics F1-score best value is 100 and worst value is 0. **The F scores of all the classes were calculated, it ranges from 41% to 52%. Sentiments labelled 2 have the highest F score of 52%, indicating it is least likely to get misclassified.**\n",
        "\n",
        "Finally, we used **BERT model** to improve the accuracy of predicting sentiments from the given dataset. BERT model was proposed by researchers at Google AI language in 2018. BERT stands for Bidirectional Representation for Transformers. We have used BERT base here which is a 12 layers of encoder stack with 12 bidirectional self-attention heads and 768 hidden units. We got an **accuracy of 69.32%**."
      ]
    },
    {
      "cell_type": "code",
      "metadata": {
        "id": "YloKf_bzeuh3"
      },
      "source": [
        ""
      ],
      "execution_count": null,
      "outputs": []
    }
  ]
}
